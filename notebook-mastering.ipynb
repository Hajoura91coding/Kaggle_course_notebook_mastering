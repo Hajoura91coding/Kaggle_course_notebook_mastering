{
 "cells": [
  {
   "cell_type": "code",
   "execution_count": 1,
   "id": "bab9a886",
   "metadata": {
    "_cell_guid": "b1076dfc-b9ad-4769-8c92-a6c4dae69d19",
    "_uuid": "8f2839f25d086af736a60e9eeb907d3b93b6e0e5",
    "execution": {
     "iopub.execute_input": "2023-11-27T13:49:58.023955Z",
     "iopub.status.busy": "2023-11-27T13:49:58.023517Z",
     "iopub.status.idle": "2023-11-27T13:49:59.555140Z",
     "shell.execute_reply": "2023-11-27T13:49:59.553888Z"
    },
    "papermill": {
     "duration": 1.551367,
     "end_time": "2023-11-27T13:49:59.558060",
     "exception": false,
     "start_time": "2023-11-27T13:49:58.006693",
     "status": "completed"
    },
    "tags": []
   },
   "outputs": [
    {
     "name": "stdout",
     "output_type": "stream",
     "text": [
      "/kaggle/input/titanic/train.csv\n",
      "/kaggle/input/titanic/test.csv\n",
      "/kaggle/input/titanic/gender_submission.csv\n",
      "/kaggle/usr/lib/utility_script_data_viz/utility_script_data_viz.py\r\n"
     ]
    }
   ],
   "source": [
    "# This Python 3 environment comes with many helpful analytics libraries installed\n",
    "# It is defined by the kaggle/python Docker image: https://github.com/kaggle/docker-python\n",
    "# For example, here's several helpful packages to load\n",
    "\n",
    "import numpy as np # linear algebra\n",
    "import pandas as pd # data processing, CSV file I/O (e.g. pd.read_csv)\n",
    "\n",
    "# Input data files are available in the read-only \"../input/\" directory\n",
    "# For example, running this (by clicking run or pressing Shift+Enter) will list all files under the input directory\n",
    "\n",
    "import os\n",
    "for dirname, _, filenames in os.walk('/kaggle/input'):\n",
    "    for filename in filenames:\n",
    "        print(os.path.join(dirname, filename))\n",
    "!ls /kaggle/usr/lib/utility_script_data_viz/utility_script_data_viz.py\n",
    "\n",
    "# You can write up to 20GB to the current directory (/kaggle/working/) that gets preserved as output when you create a version using \"Save & Run All\" \n",
    "# You can also write temporary files to /kaggle/temp/, but they won't be saved outside of the current session"
   ]
  },
  {
   "cell_type": "markdown",
   "id": "1500c00e",
   "metadata": {
    "papermill": {
     "duration": 0.014098,
     "end_time": "2023-11-27T13:49:59.586683",
     "exception": false,
     "start_time": "2023-11-27T13:49:59.572585",
     "status": "completed"
    },
    "tags": []
   },
   "source": [
    "# Analyse de donnée"
   ]
  },
  {
   "cell_type": "code",
   "execution_count": 2,
   "id": "65bb931c",
   "metadata": {
    "execution": {
     "iopub.execute_input": "2023-11-27T13:49:59.617384Z",
     "iopub.status.busy": "2023-11-27T13:49:59.616289Z",
     "iopub.status.idle": "2023-11-27T13:50:01.216574Z",
     "shell.execute_reply": "2023-11-27T13:50:01.215353Z"
    },
    "papermill": {
     "duration": 1.619909,
     "end_time": "2023-11-27T13:50:01.220436",
     "exception": false,
     "start_time": "2023-11-27T13:49:59.600527",
     "status": "completed"
    },
    "tags": []
   },
   "outputs": [
    {
     "name": "stdout",
     "output_type": "stream",
     "text": [
      "/kaggle/input/titanic/train.csv\n",
      "/kaggle/input/titanic/test.csv\n",
      "/kaggle/input/titanic/gender_submission.csv\n",
      "Notebook Color Schema:\n"
     ]
    },
    {
     "data": {
      "image/png": "[encoded data removed]",
      "text/plain": [
       "<Figure size 400x100 with 1 Axes>"
      ]
     },
     "metadata": {},
     "output_type": "display_data"
    }
   ],
   "source": [
    "import utility_script_data_viz as dv"
   ]
  },
  {
   "cell_type": "code",
   "execution_count": 3,
   "id": "9f718128",
   "metadata": {
    "execution": {
     "iopub.execute_input": "2023-11-27T13:50:01.285606Z",
     "iopub.status.busy": "2023-11-27T13:50:01.284835Z",
     "iopub.status.idle": "2023-11-27T13:50:01.328848Z",
     "shell.execute_reply": "2023-11-27T13:50:01.327898Z"
    },
    "papermill": {
     "duration": 0.081246,
     "end_time": "2023-11-27T13:50:01.332153",
     "exception": false,
     "start_time": "2023-11-27T13:50:01.250907",
     "status": "completed"
    },
    "tags": []
   },
   "outputs": [],
   "source": [
    "train_df = pd.read_csv(\"/kaggle/input/titanic/train.csv\")\n",
    "test_df = pd.read_csv(\"/kaggle/input/titanic/test.csv\")"
   ]
  },
  {
   "cell_type": "code",
   "execution_count": 4,
   "id": "b54c73c8",
   "metadata": {
    "execution": {
     "iopub.execute_input": "2023-11-27T13:50:01.363266Z",
     "iopub.status.busy": "2023-11-27T13:50:01.362807Z",
     "iopub.status.idle": "2023-11-27T13:50:01.390144Z",
     "shell.execute_reply": "2023-11-27T13:50:01.389033Z"
    },
    "papermill": {
     "duration": 0.045644,
     "end_time": "2023-11-27T13:50:01.392508",
     "exception": false,
     "start_time": "2023-11-27T13:50:01.346864",
     "status": "completed"
    },
    "tags": []
   },
   "outputs": [
    {
     "data": {
      "text/html": [
       "<div>\n",
       "<style scoped>\n",
       "    .dataframe tbody tr th:only-of-type {\n",
       "        vertical-align: middle;\n",
       "    }\n",
       "\n",
       "    .dataframe tbody tr th {\n",
       "        vertical-align: top;\n",
       "    }\n",
       "\n",
       "    .dataframe thead th {\n",
       "        text-align: right;\n",
       "    }\n",
       "</style>\n",
       "<table border=\"1\" class=\"dataframe\">\n",
       "  <thead>\n",
       "    <tr style=\"text-align: right;\">\n",
       "      <th></th>\n",
       "      <th>PassengerId</th>\n",
       "      <th>Survived</th>\n",
       "      <th>Pclass</th>\n",
       "      <th>Name</th>\n",
       "      <th>Sex</th>\n",
       "      <th>Age</th>\n",
       "      <th>SibSp</th>\n",
       "      <th>Parch</th>\n",
       "      <th>Ticket</th>\n",
       "      <th>Fare</th>\n",
       "      <th>Cabin</th>\n",
       "      <th>Embarked</th>\n",
       "    </tr>\n",
       "  </thead>\n",
       "  <tbody>\n",
       "    <tr>\n",
       "      <th>0</th>\n",
       "      <td>1</td>\n",
       "      <td>0</td>\n",
       "      <td>3</td>\n",
       "      <td>Braund, Mr. Owen Harris</td>\n",
       "      <td>male</td>\n",
       "      <td>22.0</td>\n",
       "      <td>1</td>\n",
       "      <td>0</td>\n",
       "      <td>A/5 21171</td>\n",
       "      <td>7.2500</td>\n",
       "      <td>NaN</td>\n",
       "      <td>S</td>\n",
       "    </tr>\n",
       "    <tr>\n",
       "      <th>1</th>\n",
       "      <td>2</td>\n",
       "      <td>1</td>\n",
       "      <td>1</td>\n",
       "      <td>Cumings, Mrs. John Bradley (Florence Briggs Th...</td>\n",
       "      <td>female</td>\n",
       "      <td>38.0</td>\n",
       "      <td>1</td>\n",
       "      <td>0</td>\n",
       "      <td>PC 17599</td>\n",
       "      <td>71.2833</td>\n",
       "      <td>C85</td>\n",
       "      <td>C</td>\n",
       "    </tr>\n",
       "    <tr>\n",
       "      <th>2</th>\n",
       "      <td>3</td>\n",
       "      <td>1</td>\n",
       "      <td>3</td>\n",
       "      <td>Heikkinen, Miss. Laina</td>\n",
       "      <td>female</td>\n",
       "      <td>26.0</td>\n",
       "      <td>0</td>\n",
       "      <td>0</td>\n",
       "      <td>STON/O2. 3101282</td>\n",
       "      <td>7.9250</td>\n",
       "      <td>NaN</td>\n",
       "      <td>S</td>\n",
       "    </tr>\n",
       "    <tr>\n",
       "      <th>3</th>\n",
       "      <td>4</td>\n",
       "      <td>1</td>\n",
       "      <td>1</td>\n",
       "      <td>Futrelle, Mrs. Jacques Heath (Lily May Peel)</td>\n",
       "      <td>female</td>\n",
       "      <td>35.0</td>\n",
       "      <td>1</td>\n",
       "      <td>0</td>\n",
       "      <td>113803</td>\n",
       "      <td>53.1000</td>\n",
       "      <td>C123</td>\n",
       "      <td>S</td>\n",
       "    </tr>\n",
       "    <tr>\n",
       "      <th>4</th>\n",
       "      <td>5</td>\n",
       "      <td>0</td>\n",
       "      <td>3</td>\n",
       "      <td>Allen, Mr. William Henry</td>\n",
       "      <td>male</td>\n",
       "      <td>35.0</td>\n",
       "      <td>0</td>\n",
       "      <td>0</td>\n",
       "      <td>373450</td>\n",
       "      <td>8.0500</td>\n",
       "      <td>NaN</td>\n",
       "      <td>S</td>\n",
       "    </tr>\n",
       "  </tbody>\n",
       "</table>\n",
       "</div>"
      ],
      "text/plain": [
       "   PassengerId  Survived  Pclass  \\\n",
       "0            1         0       3   \n",
       "1            2         1       1   \n",
       "2            3         1       3   \n",
       "3            4         1       1   \n",
       "4            5         0       3   \n",
       "\n",
       "                                                Name     Sex   Age  SibSp  \\\n",
       "0                            Braund, Mr. Owen Harris    male  22.0      1   \n",
       "1  Cumings, Mrs. John Bradley (Florence Briggs Th...  female  38.0      1   \n",
       "2                             Heikkinen, Miss. Laina  female  26.0      0   \n",
       "3       Futrelle, Mrs. Jacques Heath (Lily May Peel)  female  35.0      1   \n",
       "4                           Allen, Mr. William Henry    male  35.0      0   \n",
       "\n",
       "   Parch            Ticket     Fare Cabin Embarked  \n",
       "0      0         A/5 21171   7.2500   NaN        S  \n",
       "1      0          PC 17599  71.2833   C85        C  \n",
       "2      0  STON/O2. 3101282   7.9250   NaN        S  \n",
       "3      0            113803  53.1000  C123        S  \n",
       "4      0            373450   8.0500   NaN        S  "
      ]
     },
     "execution_count": 4,
     "metadata": {},
     "output_type": "execute_result"
    }
   ],
   "source": [
    "train_df.head()"
   ]
  },
  {
   "cell_type": "code",
   "execution_count": 5,
   "id": "db840558",
   "metadata": {
    "execution": {
     "iopub.execute_input": "2023-11-27T13:50:01.423861Z",
     "iopub.status.busy": "2023-11-27T13:50:01.423388Z",
     "iopub.status.idle": "2023-11-27T13:50:01.458459Z",
     "shell.execute_reply": "2023-11-27T13:50:01.457623Z"
    },
    "papermill": {
     "duration": 0.053681,
     "end_time": "2023-11-27T13:50:01.460690",
     "exception": false,
     "start_time": "2023-11-27T13:50:01.407009",
     "status": "completed"
    },
    "tags": []
   },
   "outputs": [
    {
     "data": {
      "text/html": [
       "<div>\n",
       "<style scoped>\n",
       "    .dataframe tbody tr th:only-of-type {\n",
       "        vertical-align: middle;\n",
       "    }\n",
       "\n",
       "    .dataframe tbody tr th {\n",
       "        vertical-align: top;\n",
       "    }\n",
       "\n",
       "    .dataframe thead th {\n",
       "        text-align: right;\n",
       "    }\n",
       "</style>\n",
       "<table border=\"1\" class=\"dataframe\">\n",
       "  <thead>\n",
       "    <tr style=\"text-align: right;\">\n",
       "      <th></th>\n",
       "      <th>PassengerId</th>\n",
       "      <th>Survived</th>\n",
       "      <th>Pclass</th>\n",
       "      <th>Age</th>\n",
       "      <th>SibSp</th>\n",
       "      <th>Parch</th>\n",
       "      <th>Fare</th>\n",
       "    </tr>\n",
       "  </thead>\n",
       "  <tbody>\n",
       "    <tr>\n",
       "      <th>count</th>\n",
       "      <td>891.000000</td>\n",
       "      <td>891.000000</td>\n",
       "      <td>891.000000</td>\n",
       "      <td>714.000000</td>\n",
       "      <td>891.000000</td>\n",
       "      <td>891.000000</td>\n",
       "      <td>891.000000</td>\n",
       "    </tr>\n",
       "    <tr>\n",
       "      <th>mean</th>\n",
       "      <td>446.000000</td>\n",
       "      <td>0.383838</td>\n",
       "      <td>2.308642</td>\n",
       "      <td>29.699118</td>\n",
       "      <td>0.523008</td>\n",
       "      <td>0.381594</td>\n",
       "      <td>32.204208</td>\n",
       "    </tr>\n",
       "    <tr>\n",
       "      <th>std</th>\n",
       "      <td>257.353842</td>\n",
       "      <td>0.486592</td>\n",
       "      <td>0.836071</td>\n",
       "      <td>14.526497</td>\n",
       "      <td>1.102743</td>\n",
       "      <td>0.806057</td>\n",
       "      <td>49.693429</td>\n",
       "    </tr>\n",
       "    <tr>\n",
       "      <th>min</th>\n",
       "      <td>1.000000</td>\n",
       "      <td>0.000000</td>\n",
       "      <td>1.000000</td>\n",
       "      <td>0.420000</td>\n",
       "      <td>0.000000</td>\n",
       "      <td>0.000000</td>\n",
       "      <td>0.000000</td>\n",
       "    </tr>\n",
       "    <tr>\n",
       "      <th>25%</th>\n",
       "      <td>223.500000</td>\n",
       "      <td>0.000000</td>\n",
       "      <td>2.000000</td>\n",
       "      <td>20.125000</td>\n",
       "      <td>0.000000</td>\n",
       "      <td>0.000000</td>\n",
       "      <td>7.910400</td>\n",
       "    </tr>\n",
       "    <tr>\n",
       "      <th>50%</th>\n",
       "      <td>446.000000</td>\n",
       "      <td>0.000000</td>\n",
       "      <td>3.000000</td>\n",
       "      <td>28.000000</td>\n",
       "      <td>0.000000</td>\n",
       "      <td>0.000000</td>\n",
       "      <td>14.454200</td>\n",
       "    </tr>\n",
       "    <tr>\n",
       "      <th>75%</th>\n",
       "      <td>668.500000</td>\n",
       "      <td>1.000000</td>\n",
       "      <td>3.000000</td>\n",
       "      <td>38.000000</td>\n",
       "      <td>1.000000</td>\n",
       "      <td>0.000000</td>\n",
       "      <td>31.000000</td>\n",
       "    </tr>\n",
       "    <tr>\n",
       "      <th>max</th>\n",
       "      <td>891.000000</td>\n",
       "      <td>1.000000</td>\n",
       "      <td>3.000000</td>\n",
       "      <td>80.000000</td>\n",
       "      <td>8.000000</td>\n",
       "      <td>6.000000</td>\n",
       "      <td>512.329200</td>\n",
       "    </tr>\n",
       "  </tbody>\n",
       "</table>\n",
       "</div>"
      ],
      "text/plain": [
       "       PassengerId    Survived      Pclass         Age       SibSp  \\\n",
       "count   891.000000  891.000000  891.000000  714.000000  891.000000   \n",
       "mean    446.000000    0.383838    2.308642   29.699118    0.523008   \n",
       "std     257.353842    0.486592    0.836071   14.526497    1.102743   \n",
       "min       1.000000    0.000000    1.000000    0.420000    0.000000   \n",
       "25%     223.500000    0.000000    2.000000   20.125000    0.000000   \n",
       "50%     446.000000    0.000000    3.000000   28.000000    0.000000   \n",
       "75%     668.500000    1.000000    3.000000   38.000000    1.000000   \n",
       "max     891.000000    1.000000    3.000000   80.000000    8.000000   \n",
       "\n",
       "            Parch        Fare  \n",
       "count  891.000000  891.000000  \n",
       "mean     0.381594   32.204208  \n",
       "std      0.806057   49.693429  \n",
       "min      0.000000    0.000000  \n",
       "25%      0.000000    7.910400  \n",
       "50%      0.000000   14.454200  \n",
       "75%      0.000000   31.000000  \n",
       "max      6.000000  512.329200  "
      ]
     },
     "execution_count": 5,
     "metadata": {},
     "output_type": "execute_result"
    }
   ],
   "source": [
    "train_df.describe()"
   ]
  },
  {
   "cell_type": "code",
   "execution_count": 6,
   "id": "14969651",
   "metadata": {
    "execution": {
     "iopub.execute_input": "2023-11-27T13:50:01.493612Z",
     "iopub.status.busy": "2023-11-27T13:50:01.492463Z",
     "iopub.status.idle": "2023-11-27T13:50:01.524004Z",
     "shell.execute_reply": "2023-11-27T13:50:01.522854Z"
    },
    "papermill": {
     "duration": 0.050458,
     "end_time": "2023-11-27T13:50:01.526367",
     "exception": false,
     "start_time": "2023-11-27T13:50:01.475909",
     "status": "completed"
    },
    "tags": []
   },
   "outputs": [
    {
     "data": {
      "text/html": [
       "<div>\n",
       "<style scoped>\n",
       "    .dataframe tbody tr th:only-of-type {\n",
       "        vertical-align: middle;\n",
       "    }\n",
       "\n",
       "    .dataframe tbody tr th {\n",
       "        vertical-align: top;\n",
       "    }\n",
       "\n",
       "    .dataframe thead th {\n",
       "        text-align: right;\n",
       "    }\n",
       "</style>\n",
       "<table border=\"1\" class=\"dataframe\">\n",
       "  <thead>\n",
       "    <tr style=\"text-align: right;\">\n",
       "      <th></th>\n",
       "      <th>PassengerId</th>\n",
       "      <th>Pclass</th>\n",
       "      <th>Age</th>\n",
       "      <th>SibSp</th>\n",
       "      <th>Parch</th>\n",
       "      <th>Fare</th>\n",
       "    </tr>\n",
       "  </thead>\n",
       "  <tbody>\n",
       "    <tr>\n",
       "      <th>count</th>\n",
       "      <td>418.000000</td>\n",
       "      <td>418.000000</td>\n",
       "      <td>332.000000</td>\n",
       "      <td>418.000000</td>\n",
       "      <td>418.000000</td>\n",
       "      <td>417.000000</td>\n",
       "    </tr>\n",
       "    <tr>\n",
       "      <th>mean</th>\n",
       "      <td>1100.500000</td>\n",
       "      <td>2.265550</td>\n",
       "      <td>30.272590</td>\n",
       "      <td>0.447368</td>\n",
       "      <td>0.392344</td>\n",
       "      <td>35.627188</td>\n",
       "    </tr>\n",
       "    <tr>\n",
       "      <th>std</th>\n",
       "      <td>120.810458</td>\n",
       "      <td>0.841838</td>\n",
       "      <td>14.181209</td>\n",
       "      <td>0.896760</td>\n",
       "      <td>0.981429</td>\n",
       "      <td>55.907576</td>\n",
       "    </tr>\n",
       "    <tr>\n",
       "      <th>min</th>\n",
       "      <td>892.000000</td>\n",
       "      <td>1.000000</td>\n",
       "      <td>0.170000</td>\n",
       "      <td>0.000000</td>\n",
       "      <td>0.000000</td>\n",
       "      <td>0.000000</td>\n",
       "    </tr>\n",
       "    <tr>\n",
       "      <th>25%</th>\n",
       "      <td>996.250000</td>\n",
       "      <td>1.000000</td>\n",
       "      <td>21.000000</td>\n",
       "      <td>0.000000</td>\n",
       "      <td>0.000000</td>\n",
       "      <td>7.895800</td>\n",
       "    </tr>\n",
       "    <tr>\n",
       "      <th>50%</th>\n",
       "      <td>1100.500000</td>\n",
       "      <td>3.000000</td>\n",
       "      <td>27.000000</td>\n",
       "      <td>0.000000</td>\n",
       "      <td>0.000000</td>\n",
       "      <td>14.454200</td>\n",
       "    </tr>\n",
       "    <tr>\n",
       "      <th>75%</th>\n",
       "      <td>1204.750000</td>\n",
       "      <td>3.000000</td>\n",
       "      <td>39.000000</td>\n",
       "      <td>1.000000</td>\n",
       "      <td>0.000000</td>\n",
       "      <td>31.500000</td>\n",
       "    </tr>\n",
       "    <tr>\n",
       "      <th>max</th>\n",
       "      <td>1309.000000</td>\n",
       "      <td>3.000000</td>\n",
       "      <td>76.000000</td>\n",
       "      <td>8.000000</td>\n",
       "      <td>9.000000</td>\n",
       "      <td>512.329200</td>\n",
       "    </tr>\n",
       "  </tbody>\n",
       "</table>\n",
       "</div>"
      ],
      "text/plain": [
       "       PassengerId      Pclass         Age       SibSp       Parch        Fare\n",
       "count   418.000000  418.000000  332.000000  418.000000  418.000000  417.000000\n",
       "mean   1100.500000    2.265550   30.272590    0.447368    0.392344   35.627188\n",
       "std     120.810458    0.841838   14.181209    0.896760    0.981429   55.907576\n",
       "min     892.000000    1.000000    0.170000    0.000000    0.000000    0.000000\n",
       "25%     996.250000    1.000000   21.000000    0.000000    0.000000    7.895800\n",
       "50%    1100.500000    3.000000   27.000000    0.000000    0.000000   14.454200\n",
       "75%    1204.750000    3.000000   39.000000    1.000000    0.000000   31.500000\n",
       "max    1309.000000    3.000000   76.000000    8.000000    9.000000  512.329200"
      ]
     },
     "execution_count": 6,
     "metadata": {},
     "output_type": "execute_result"
    }
   ],
   "source": [
    "test_df.describe()"
   ]
  },
  {
   "cell_type": "code",
   "execution_count": 7,
   "id": "10b3da6c",
   "metadata": {
    "execution": {
     "iopub.execute_input": "2023-11-27T13:50:01.558895Z",
     "iopub.status.busy": "2023-11-27T13:50:01.557777Z",
     "iopub.status.idle": "2023-11-27T13:50:01.564147Z",
     "shell.execute_reply": "2023-11-27T13:50:01.563171Z"
    },
    "papermill": {
     "duration": 0.025183,
     "end_time": "2023-11-27T13:50:01.566471",
     "exception": false,
     "start_time": "2023-11-27T13:50:01.541288",
     "status": "completed"
    },
    "tags": []
   },
   "outputs": [
    {
     "name": "stdout",
     "output_type": "stream",
     "text": [
      "(891, 12)\n",
      "(418, 11)\n"
     ]
    }
   ],
   "source": [
    "print(train_df.shape)\n",
    "print(test_df.shape)"
   ]
  },
  {
   "cell_type": "code",
   "execution_count": 8,
   "id": "bbc961f1",
   "metadata": {
    "execution": {
     "iopub.execute_input": "2023-11-27T13:50:01.598787Z",
     "iopub.status.busy": "2023-11-27T13:50:01.598139Z",
     "iopub.status.idle": "2023-11-27T13:50:01.626251Z",
     "shell.execute_reply": "2023-11-27T13:50:01.624858Z"
    },
    "papermill": {
     "duration": 0.047433,
     "end_time": "2023-11-27T13:50:01.629209",
     "exception": false,
     "start_time": "2023-11-27T13:50:01.581776",
     "status": "completed"
    },
    "tags": []
   },
   "outputs": [
    {
     "name": "stdout",
     "output_type": "stream",
     "text": [
      "<class 'pandas.core.frame.DataFrame'>\n",
      "RangeIndex: 891 entries, 0 to 890\n",
      "Data columns (total 12 columns):\n",
      " #   Column       Non-Null Count  Dtype  \n",
      "---  ------       --------------  -----  \n",
      " 0   PassengerId  891 non-null    int64  \n",
      " 1   Survived     891 non-null    int64  \n",
      " 2   Pclass       891 non-null    int64  \n",
      " 3   Name         891 non-null    object \n",
      " 4   Sex          891 non-null    object \n",
      " 5   Age          714 non-null    float64\n",
      " 6   SibSp        891 non-null    int64  \n",
      " 7   Parch        891 non-null    int64  \n",
      " 8   Ticket       891 non-null    object \n",
      " 9   Fare         891 non-null    float64\n",
      " 10  Cabin        204 non-null    object \n",
      " 11  Embarked     889 non-null    object \n",
      "dtypes: float64(2), int64(5), object(5)\n",
      "memory usage: 83.7+ KB\n"
     ]
    }
   ],
   "source": [
    "train_df.info()"
   ]
  },
  {
   "cell_type": "code",
   "execution_count": 9,
   "id": "f7116e45",
   "metadata": {
    "execution": {
     "iopub.execute_input": "2023-11-27T13:50:01.662639Z",
     "iopub.status.busy": "2023-11-27T13:50:01.661965Z",
     "iopub.status.idle": "2023-11-27T13:50:01.675044Z",
     "shell.execute_reply": "2023-11-27T13:50:01.673967Z"
    },
    "papermill": {
     "duration": 0.033642,
     "end_time": "2023-11-27T13:50:01.678313",
     "exception": false,
     "start_time": "2023-11-27T13:50:01.644671",
     "status": "completed"
    },
    "tags": []
   },
   "outputs": [
    {
     "name": "stdout",
     "output_type": "stream",
     "text": [
      "<class 'pandas.core.frame.DataFrame'>\n",
      "RangeIndex: 418 entries, 0 to 417\n",
      "Data columns (total 11 columns):\n",
      " #   Column       Non-Null Count  Dtype  \n",
      "---  ------       --------------  -----  \n",
      " 0   PassengerId  418 non-null    int64  \n",
      " 1   Pclass       418 non-null    int64  \n",
      " 2   Name         418 non-null    object \n",
      " 3   Sex          418 non-null    object \n",
      " 4   Age          332 non-null    float64\n",
      " 5   SibSp        418 non-null    int64  \n",
      " 6   Parch        418 non-null    int64  \n",
      " 7   Ticket       418 non-null    object \n",
      " 8   Fare         417 non-null    float64\n",
      " 9   Cabin        91 non-null     object \n",
      " 10  Embarked     418 non-null    object \n",
      "dtypes: float64(2), int64(4), object(5)\n",
      "memory usage: 36.0+ KB\n"
     ]
    }
   ],
   "source": [
    "test_df.info()"
   ]
  },
  {
   "cell_type": "code",
   "execution_count": 10,
   "id": "aa3e225b",
   "metadata": {
    "execution": {
     "iopub.execute_input": "2023-11-27T13:50:01.712021Z",
     "iopub.status.busy": "2023-11-27T13:50:01.711586Z",
     "iopub.status.idle": "2023-11-27T13:50:01.735682Z",
     "shell.execute_reply": "2023-11-27T13:50:01.734617Z"
    },
    "papermill": {
     "duration": 0.043603,
     "end_time": "2023-11-27T13:50:01.737865",
     "exception": false,
     "start_time": "2023-11-27T13:50:01.694262",
     "status": "completed"
    },
    "tags": []
   },
   "outputs": [
    {
     "data": {
      "text/html": [
       "<div>\n",
       "<style scoped>\n",
       "    .dataframe tbody tr th:only-of-type {\n",
       "        vertical-align: middle;\n",
       "    }\n",
       "\n",
       "    .dataframe tbody tr th {\n",
       "        vertical-align: top;\n",
       "    }\n",
       "\n",
       "    .dataframe thead th {\n",
       "        text-align: right;\n",
       "    }\n",
       "</style>\n",
       "<table border=\"1\" class=\"dataframe\">\n",
       "  <thead>\n",
       "    <tr style=\"text-align: right;\">\n",
       "      <th></th>\n",
       "      <th>PassengerId</th>\n",
       "      <th>Survived</th>\n",
       "      <th>Pclass</th>\n",
       "      <th>Name</th>\n",
       "      <th>Sex</th>\n",
       "      <th>Age</th>\n",
       "      <th>SibSp</th>\n",
       "      <th>Parch</th>\n",
       "      <th>Ticket</th>\n",
       "      <th>Fare</th>\n",
       "      <th>Cabin</th>\n",
       "      <th>Embarked</th>\n",
       "    </tr>\n",
       "  </thead>\n",
       "  <tbody>\n",
       "    <tr>\n",
       "      <th>Totale</th>\n",
       "      <td>0</td>\n",
       "      <td>0</td>\n",
       "      <td>0</td>\n",
       "      <td>0</td>\n",
       "      <td>0</td>\n",
       "      <td>177</td>\n",
       "      <td>0</td>\n",
       "      <td>0</td>\n",
       "      <td>0</td>\n",
       "      <td>0</td>\n",
       "      <td>687</td>\n",
       "      <td>2</td>\n",
       "    </tr>\n",
       "    <tr>\n",
       "      <th>Percent</th>\n",
       "      <td>0.0</td>\n",
       "      <td>0.0</td>\n",
       "      <td>0.0</td>\n",
       "      <td>0.0</td>\n",
       "      <td>0.0</td>\n",
       "      <td>19.86532</td>\n",
       "      <td>0.0</td>\n",
       "      <td>0.0</td>\n",
       "      <td>0.0</td>\n",
       "      <td>0.0</td>\n",
       "      <td>77.104377</td>\n",
       "      <td>0.224467</td>\n",
       "    </tr>\n",
       "    <tr>\n",
       "      <th>Types</th>\n",
       "      <td>int64</td>\n",
       "      <td>int64</td>\n",
       "      <td>int64</td>\n",
       "      <td>object</td>\n",
       "      <td>object</td>\n",
       "      <td>float64</td>\n",
       "      <td>int64</td>\n",
       "      <td>int64</td>\n",
       "      <td>object</td>\n",
       "      <td>float64</td>\n",
       "      <td>object</td>\n",
       "      <td>object</td>\n",
       "    </tr>\n",
       "  </tbody>\n",
       "</table>\n",
       "</div>"
      ],
      "text/plain": [
       "        PassengerId Survived Pclass    Name     Sex       Age  SibSp  Parch  \\\n",
       "Totale            0        0      0       0       0       177      0      0   \n",
       "Percent         0.0      0.0    0.0     0.0     0.0  19.86532    0.0    0.0   \n",
       "Types         int64    int64  int64  object  object   float64  int64  int64   \n",
       "\n",
       "         Ticket     Fare      Cabin  Embarked  \n",
       "Totale        0        0        687         2  \n",
       "Percent     0.0      0.0  77.104377  0.224467  \n",
       "Types    object  float64     object    object  "
      ]
     },
     "execution_count": 10,
     "metadata": {},
     "output_type": "execute_result"
    }
   ],
   "source": [
    "dv.missing_data(train_df)"
   ]
  },
  {
   "cell_type": "code",
   "execution_count": 11,
   "id": "a4965c10",
   "metadata": {
    "execution": {
     "iopub.execute_input": "2023-11-27T13:50:01.772394Z",
     "iopub.status.busy": "2023-11-27T13:50:01.771984Z",
     "iopub.status.idle": "2023-11-27T13:50:01.794369Z",
     "shell.execute_reply": "2023-11-27T13:50:01.793320Z"
    },
    "papermill": {
     "duration": 0.043147,
     "end_time": "2023-11-27T13:50:01.796964",
     "exception": false,
     "start_time": "2023-11-27T13:50:01.753817",
     "status": "completed"
    },
    "tags": []
   },
   "outputs": [
    {
     "data": {
      "text/html": [
       "<div>\n",
       "<style scoped>\n",
       "    .dataframe tbody tr th:only-of-type {\n",
       "        vertical-align: middle;\n",
       "    }\n",
       "\n",
       "    .dataframe tbody tr th {\n",
       "        vertical-align: top;\n",
       "    }\n",
       "\n",
       "    .dataframe thead th {\n",
       "        text-align: right;\n",
       "    }\n",
       "</style>\n",
       "<table border=\"1\" class=\"dataframe\">\n",
       "  <thead>\n",
       "    <tr style=\"text-align: right;\">\n",
       "      <th></th>\n",
       "      <th>PassengerId</th>\n",
       "      <th>Pclass</th>\n",
       "      <th>Name</th>\n",
       "      <th>Sex</th>\n",
       "      <th>Age</th>\n",
       "      <th>SibSp</th>\n",
       "      <th>Parch</th>\n",
       "      <th>Ticket</th>\n",
       "      <th>Fare</th>\n",
       "      <th>Cabin</th>\n",
       "      <th>Embarked</th>\n",
       "    </tr>\n",
       "  </thead>\n",
       "  <tbody>\n",
       "    <tr>\n",
       "      <th>Totale</th>\n",
       "      <td>0</td>\n",
       "      <td>0</td>\n",
       "      <td>0</td>\n",
       "      <td>0</td>\n",
       "      <td>86</td>\n",
       "      <td>0</td>\n",
       "      <td>0</td>\n",
       "      <td>0</td>\n",
       "      <td>1</td>\n",
       "      <td>327</td>\n",
       "      <td>0</td>\n",
       "    </tr>\n",
       "    <tr>\n",
       "      <th>Percent</th>\n",
       "      <td>0.0</td>\n",
       "      <td>0.0</td>\n",
       "      <td>0.0</td>\n",
       "      <td>0.0</td>\n",
       "      <td>20.574163</td>\n",
       "      <td>0.0</td>\n",
       "      <td>0.0</td>\n",
       "      <td>0.0</td>\n",
       "      <td>0.239234</td>\n",
       "      <td>78.229665</td>\n",
       "      <td>0.0</td>\n",
       "    </tr>\n",
       "    <tr>\n",
       "      <th>Types</th>\n",
       "      <td>int64</td>\n",
       "      <td>int64</td>\n",
       "      <td>object</td>\n",
       "      <td>object</td>\n",
       "      <td>float64</td>\n",
       "      <td>int64</td>\n",
       "      <td>int64</td>\n",
       "      <td>object</td>\n",
       "      <td>float64</td>\n",
       "      <td>object</td>\n",
       "      <td>object</td>\n",
       "    </tr>\n",
       "  </tbody>\n",
       "</table>\n",
       "</div>"
      ],
      "text/plain": [
       "        PassengerId Pclass    Name     Sex        Age  SibSp  Parch  Ticket  \\\n",
       "Totale            0      0       0       0         86      0      0       0   \n",
       "Percent         0.0    0.0     0.0     0.0  20.574163    0.0    0.0     0.0   \n",
       "Types         int64  int64  object  object    float64  int64  int64  object   \n",
       "\n",
       "             Fare      Cabin Embarked  \n",
       "Totale          1        327        0  \n",
       "Percent  0.239234  78.229665      0.0  \n",
       "Types     float64     object   object  "
      ]
     },
     "execution_count": 11,
     "metadata": {},
     "output_type": "execute_result"
    }
   ],
   "source": [
    "dv.missing_data(test_df)"
   ]
  },
  {
   "cell_type": "code",
   "execution_count": 12,
   "id": "bbe2725a",
   "metadata": {
    "execution": {
     "iopub.execute_input": "2023-11-27T13:50:01.896364Z",
     "iopub.status.busy": "2023-11-27T13:50:01.895977Z",
     "iopub.status.idle": "2023-11-27T13:50:01.920233Z",
     "shell.execute_reply": "2023-11-27T13:50:01.919040Z"
    },
    "papermill": {
     "duration": 0.109766,
     "end_time": "2023-11-27T13:50:01.922737",
     "exception": false,
     "start_time": "2023-11-27T13:50:01.812971",
     "status": "completed"
    },
    "tags": []
   },
   "outputs": [],
   "source": [
    "tt = dv.most_frequent_values(train_df)"
   ]
  },
  {
   "cell_type": "code",
   "execution_count": 13,
   "id": "1b8c5715",
   "metadata": {
    "execution": {
     "iopub.execute_input": "2023-11-27T13:50:01.957358Z",
     "iopub.status.busy": "2023-11-27T13:50:01.956981Z",
     "iopub.status.idle": "2023-11-27T13:50:01.974362Z",
     "shell.execute_reply": "2023-11-27T13:50:01.973491Z"
    },
    "papermill": {
     "duration": 0.037066,
     "end_time": "2023-11-27T13:50:01.976463",
     "exception": false,
     "start_time": "2023-11-27T13:50:01.939397",
     "status": "completed"
    },
    "tags": []
   },
   "outputs": [
    {
     "data": {
      "text/html": [
       "<div>\n",
       "<style scoped>\n",
       "    .dataframe tbody tr th:only-of-type {\n",
       "        vertical-align: middle;\n",
       "    }\n",
       "\n",
       "    .dataframe tbody tr th {\n",
       "        vertical-align: top;\n",
       "    }\n",
       "\n",
       "    .dataframe thead th {\n",
       "        text-align: right;\n",
       "    }\n",
       "</style>\n",
       "<table border=\"1\" class=\"dataframe\">\n",
       "  <thead>\n",
       "    <tr style=\"text-align: right;\">\n",
       "      <th></th>\n",
       "      <th>PassengerId</th>\n",
       "      <th>Survived</th>\n",
       "      <th>Pclass</th>\n",
       "      <th>Name</th>\n",
       "      <th>Sex</th>\n",
       "      <th>Age</th>\n",
       "      <th>SibSp</th>\n",
       "      <th>Parch</th>\n",
       "      <th>Ticket</th>\n",
       "      <th>Fare</th>\n",
       "      <th>Cabin</th>\n",
       "      <th>Embarked</th>\n",
       "    </tr>\n",
       "  </thead>\n",
       "  <tbody>\n",
       "    <tr>\n",
       "      <th>Total</th>\n",
       "      <td>891</td>\n",
       "      <td>891</td>\n",
       "      <td>891</td>\n",
       "      <td>891</td>\n",
       "      <td>891</td>\n",
       "      <td>714</td>\n",
       "      <td>891</td>\n",
       "      <td>891</td>\n",
       "      <td>891</td>\n",
       "      <td>891</td>\n",
       "      <td>204</td>\n",
       "      <td>889</td>\n",
       "    </tr>\n",
       "    <tr>\n",
       "      <th>Most frequent item</th>\n",
       "      <td>1</td>\n",
       "      <td>0</td>\n",
       "      <td>3</td>\n",
       "      <td>Braund, Mr. Owen Harris</td>\n",
       "      <td>male</td>\n",
       "      <td>24.0</td>\n",
       "      <td>0</td>\n",
       "      <td>0</td>\n",
       "      <td>347082</td>\n",
       "      <td>8.05</td>\n",
       "      <td>B96 B98</td>\n",
       "      <td>S</td>\n",
       "    </tr>\n",
       "    <tr>\n",
       "      <th>Frequence</th>\n",
       "      <td>1</td>\n",
       "      <td>549</td>\n",
       "      <td>491</td>\n",
       "      <td>1</td>\n",
       "      <td>577</td>\n",
       "      <td>30</td>\n",
       "      <td>608</td>\n",
       "      <td>678</td>\n",
       "      <td>7</td>\n",
       "      <td>43</td>\n",
       "      <td>4</td>\n",
       "      <td>644</td>\n",
       "    </tr>\n",
       "    <tr>\n",
       "      <th>Percent from total</th>\n",
       "      <td>0.112</td>\n",
       "      <td>61.616</td>\n",
       "      <td>55.107</td>\n",
       "      <td>0.112</td>\n",
       "      <td>64.759</td>\n",
       "      <td>4.202</td>\n",
       "      <td>68.238</td>\n",
       "      <td>76.094</td>\n",
       "      <td>0.786</td>\n",
       "      <td>4.826</td>\n",
       "      <td>1.961</td>\n",
       "      <td>72.441</td>\n",
       "    </tr>\n",
       "  </tbody>\n",
       "</table>\n",
       "</div>"
      ],
      "text/plain": [
       "                   PassengerId Survived  Pclass                     Name  \\\n",
       "Total                      891      891     891                      891   \n",
       "Most frequent item           1        0       3  Braund, Mr. Owen Harris   \n",
       "Frequence                    1      549     491                        1   \n",
       "Percent from total       0.112   61.616  55.107                    0.112   \n",
       "\n",
       "                       Sex    Age   SibSp   Parch  Ticket   Fare    Cabin  \\\n",
       "Total                  891    714     891     891     891    891      204   \n",
       "Most frequent item    male   24.0       0       0  347082   8.05  B96 B98   \n",
       "Frequence              577     30     608     678       7     43        4   \n",
       "Percent from total  64.759  4.202  68.238  76.094   0.786  4.826    1.961   \n",
       "\n",
       "                   Embarked  \n",
       "Total                   889  \n",
       "Most frequent item        S  \n",
       "Frequence               644  \n",
       "Percent from total   72.441  "
      ]
     },
     "execution_count": 13,
     "metadata": {},
     "output_type": "execute_result"
    }
   ],
   "source": [
    "tt"
   ]
  },
  {
   "cell_type": "code",
   "execution_count": 14,
   "id": "09b9ad05",
   "metadata": {
    "execution": {
     "iopub.execute_input": "2023-11-27T13:50:02.013808Z",
     "iopub.status.busy": "2023-11-27T13:50:02.012572Z",
     "iopub.status.idle": "2023-11-27T13:50:02.034925Z",
     "shell.execute_reply": "2023-11-27T13:50:02.033943Z"
    },
    "papermill": {
     "duration": 0.044272,
     "end_time": "2023-11-27T13:50:02.037156",
     "exception": false,
     "start_time": "2023-11-27T13:50:01.992884",
     "status": "completed"
    },
    "tags": []
   },
   "outputs": [
    {
     "data": {
      "text/html": [
       "<div>\n",
       "<style scoped>\n",
       "    .dataframe tbody tr th:only-of-type {\n",
       "        vertical-align: middle;\n",
       "    }\n",
       "\n",
       "    .dataframe tbody tr th {\n",
       "        vertical-align: top;\n",
       "    }\n",
       "\n",
       "    .dataframe thead th {\n",
       "        text-align: right;\n",
       "    }\n",
       "</style>\n",
       "<table border=\"1\" class=\"dataframe\">\n",
       "  <thead>\n",
       "    <tr style=\"text-align: right;\">\n",
       "      <th></th>\n",
       "      <th>PassengerId</th>\n",
       "      <th>Survived</th>\n",
       "      <th>Pclass</th>\n",
       "      <th>Name</th>\n",
       "      <th>Sex</th>\n",
       "      <th>Age</th>\n",
       "      <th>SibSp</th>\n",
       "      <th>Parch</th>\n",
       "      <th>Ticket</th>\n",
       "      <th>Fare</th>\n",
       "      <th>Cabin</th>\n",
       "      <th>Embarked</th>\n",
       "    </tr>\n",
       "  </thead>\n",
       "  <tbody>\n",
       "    <tr>\n",
       "      <th>Total</th>\n",
       "      <td>891</td>\n",
       "      <td>891</td>\n",
       "      <td>891</td>\n",
       "      <td>891</td>\n",
       "      <td>891</td>\n",
       "      <td>714</td>\n",
       "      <td>891</td>\n",
       "      <td>891</td>\n",
       "      <td>891</td>\n",
       "      <td>891</td>\n",
       "      <td>204</td>\n",
       "      <td>889</td>\n",
       "    </tr>\n",
       "    <tr>\n",
       "      <th>Uniques</th>\n",
       "      <td>891</td>\n",
       "      <td>2</td>\n",
       "      <td>3</td>\n",
       "      <td>891</td>\n",
       "      <td>2</td>\n",
       "      <td>88</td>\n",
       "      <td>7</td>\n",
       "      <td>7</td>\n",
       "      <td>681</td>\n",
       "      <td>248</td>\n",
       "      <td>147</td>\n",
       "      <td>3</td>\n",
       "    </tr>\n",
       "  </tbody>\n",
       "</table>\n",
       "</div>"
      ],
      "text/plain": [
       "         PassengerId  Survived  Pclass  Name  Sex  Age  SibSp  Parch  Ticket  \\\n",
       "Total            891       891     891   891  891  714    891    891     891   \n",
       "Uniques          891         2       3   891    2   88      7      7     681   \n",
       "\n",
       "         Fare  Cabin  Embarked  \n",
       "Total     891    204       889  \n",
       "Uniques   248    147         3  "
      ]
     },
     "execution_count": 14,
     "metadata": {},
     "output_type": "execute_result"
    }
   ],
   "source": [
    "dv.unique_values(train_df)"
   ]
  },
  {
   "cell_type": "code",
   "execution_count": 15,
   "id": "941ec2c3",
   "metadata": {
    "execution": {
     "iopub.execute_input": "2023-11-27T13:50:02.074153Z",
     "iopub.status.busy": "2023-11-27T13:50:02.073764Z",
     "iopub.status.idle": "2023-11-27T13:50:02.090032Z",
     "shell.execute_reply": "2023-11-27T13:50:02.088960Z"
    },
    "papermill": {
     "duration": 0.037516,
     "end_time": "2023-11-27T13:50:02.092370",
     "exception": false,
     "start_time": "2023-11-27T13:50:02.054854",
     "status": "completed"
    },
    "tags": []
   },
   "outputs": [
    {
     "data": {
      "text/plain": [
       "(1309, 13)"
      ]
     },
     "execution_count": 15,
     "metadata": {},
     "output_type": "execute_result"
    }
   ],
   "source": [
    "train_df['set'] = \"train\"\n",
    "test_df['set'] = \"test\"\n",
    "dt = pd.concat([train_df,test_df])\n",
    "dt.shape"
   ]
  },
  {
   "cell_type": "code",
   "execution_count": 16,
   "id": "6140fc46",
   "metadata": {
    "execution": {
     "iopub.execute_input": "2023-11-27T13:50:02.129309Z",
     "iopub.status.busy": "2023-11-27T13:50:02.128893Z",
     "iopub.status.idle": "2023-11-27T13:50:02.443866Z",
     "shell.execute_reply": "2023-11-27T13:50:02.442745Z"
    },
    "papermill": {
     "duration": 0.336385,
     "end_time": "2023-11-27T13:50:02.446541",
     "exception": false,
     "start_time": "2023-11-27T13:50:02.110156",
     "status": "completed"
    },
    "tags": []
   },
   "outputs": [
    {
     "data": {
      "image/png": "[encoded data removed]",
      "text/plain": [
       "<Figure size 800x400 with 1 Axes>"
      ]
     },
     "metadata": {},
     "output_type": "display_data"
    }
   ],
   "source": [
    "dv.plot_count_pairs(dt, 'Pclass', 'Passenger Class', hue=\"set\")"
   ]
  },
  {
   "cell_type": "code",
   "execution_count": 17,
   "id": "fc275fb0",
   "metadata": {
    "execution": {
     "iopub.execute_input": "2023-11-27T13:50:02.484137Z",
     "iopub.status.busy": "2023-11-27T13:50:02.483743Z",
     "iopub.status.idle": "2023-11-27T13:50:02.792342Z",
     "shell.execute_reply": "2023-11-27T13:50:02.791270Z"
    },
    "papermill": {
     "duration": 0.331124,
     "end_time": "2023-11-27T13:50:02.795617",
     "exception": false,
     "start_time": "2023-11-27T13:50:02.464493",
     "status": "completed"
    },
    "tags": []
   },
   "outputs": [
    {
     "data": {
      "image/png": "[encoded data removed]",
      "text/plain": [
       "<Figure size 800x400 with 1 Axes>"
      ]
     },
     "metadata": {},
     "output_type": "display_data"
    }
   ],
   "source": [
    "dv.plot_count_pairs(dt, 'Pclass', 'Age', hue=\"Survived\")"
   ]
  },
  {
   "cell_type": "code",
   "execution_count": 18,
   "id": "97ab550b",
   "metadata": {
    "execution": {
     "iopub.execute_input": "2023-11-27T13:50:02.836286Z",
     "iopub.status.busy": "2023-11-27T13:50:02.835086Z",
     "iopub.status.idle": "2023-11-27T13:50:03.346624Z",
     "shell.execute_reply": "2023-11-27T13:50:03.345432Z"
    },
    "papermill": {
     "duration": 0.534753,
     "end_time": "2023-11-27T13:50:03.349671",
     "exception": false,
     "start_time": "2023-11-27T13:50:02.814918",
     "status": "completed"
    },
    "tags": []
   },
   "outputs": [
    {
     "data": {
      "image/png": "[encoded data removed]",
      "text/plain": [
       "<Figure size 800x400 with 1 Axes>"
      ]
     },
     "metadata": {},
     "output_type": "display_data"
    }
   ],
   "source": [
    "dv.plot_distribution_pairs(dt, 'Age', 'title', hue=\"set\")"
   ]
  },
  {
   "cell_type": "code",
   "execution_count": 19,
   "id": "e9656fe5",
   "metadata": {
    "execution": {
     "iopub.execute_input": "2023-11-27T13:50:03.390995Z",
     "iopub.status.busy": "2023-11-27T13:50:03.389812Z",
     "iopub.status.idle": "2023-11-27T13:50:03.848860Z",
     "shell.execute_reply": "2023-11-27T13:50:03.847505Z"
    },
    "papermill": {
     "duration": 0.482911,
     "end_time": "2023-11-27T13:50:03.851781",
     "exception": false,
     "start_time": "2023-11-27T13:50:03.368870",
     "status": "completed"
    },
    "tags": []
   },
   "outputs": [
    {
     "data": {
      "image/png": "[encoded data removed]",
      "text/plain": [
       "<Figure size 800x400 with 1 Axes>"
      ]
     },
     "metadata": {},
     "output_type": "display_data"
    }
   ],
   "source": [
    "dv.plot_distribution_pairs(dt, 'Age', 'Age(grouped by survival)', hue=\"Survived\")"
   ]
  },
  {
   "cell_type": "code",
   "execution_count": 20,
   "id": "33b3c4e7",
   "metadata": {
    "execution": {
     "iopub.execute_input": "2023-11-27T13:50:03.893470Z",
     "iopub.status.busy": "2023-11-27T13:50:03.893038Z",
     "iopub.status.idle": "2023-11-27T13:50:03.901378Z",
     "shell.execute_reply": "2023-11-27T13:50:03.899377Z"
    },
    "papermill": {
     "duration": 0.03289,
     "end_time": "2023-11-27T13:50:03.904395",
     "exception": false,
     "start_time": "2023-11-27T13:50:03.871505",
     "status": "completed"
    },
    "tags": []
   },
   "outputs": [],
   "source": [
    "dt[\"Family_size\"] = (dt['Parch'] + dt['SibSp'])+1"
   ]
  },
  {
   "cell_type": "code",
   "execution_count": 21,
   "id": "f2f46d67",
   "metadata": {
    "execution": {
     "iopub.execute_input": "2023-11-27T13:50:03.946120Z",
     "iopub.status.busy": "2023-11-27T13:50:03.945667Z",
     "iopub.status.idle": "2023-11-27T13:50:04.326721Z",
     "shell.execute_reply": "2023-11-27T13:50:04.325485Z"
    },
    "papermill": {
     "duration": 0.405117,
     "end_time": "2023-11-27T13:50:04.329385",
     "exception": false,
     "start_time": "2023-11-27T13:50:03.924268",
     "status": "completed"
    },
    "tags": []
   },
   "outputs": [
    {
     "data": {
      "image/png": "[encoded data removed]",
      "text/plain": [
       "<Figure size 800x400 with 1 Axes>"
      ]
     },
     "metadata": {},
     "output_type": "display_data"
    }
   ],
   "source": [
    "dv.plot_count_pairs(dt, 'Family_size', 'Family Size', hue=\"set\")"
   ]
  },
  {
   "cell_type": "code",
   "execution_count": 22,
   "id": "5614c7b5",
   "metadata": {
    "execution": {
     "iopub.execute_input": "2023-11-27T13:50:04.373113Z",
     "iopub.status.busy": "2023-11-27T13:50:04.371630Z",
     "iopub.status.idle": "2023-11-27T13:50:04.756835Z",
     "shell.execute_reply": "2023-11-27T13:50:04.755733Z"
    },
    "papermill": {
     "duration": 0.409935,
     "end_time": "2023-11-27T13:50:04.759536",
     "exception": false,
     "start_time": "2023-11-27T13:50:04.349601",
     "status": "completed"
    },
    "tags": []
   },
   "outputs": [
    {
     "data": {
      "image/png": "[encoded data removed]",
      "text/plain": [
       "<Figure size 800x400 with 1 Axes>"
      ]
     },
     "metadata": {},
     "output_type": "display_data"
    }
   ],
   "source": [
    "dv.plot_count_pairs(dt, 'Family_size', 'Family Size', hue=\"Survived\")"
   ]
  },
  {
   "cell_type": "code",
   "execution_count": 23,
   "id": "2b339ed0",
   "metadata": {
    "execution": {
     "iopub.execute_input": "2023-11-27T13:50:04.803541Z",
     "iopub.status.busy": "2023-11-27T13:50:04.803115Z",
     "iopub.status.idle": "2023-11-27T13:50:04.816102Z",
     "shell.execute_reply": "2023-11-27T13:50:04.814841Z"
    },
    "papermill": {
     "duration": 0.038226,
     "end_time": "2023-11-27T13:50:04.818667",
     "exception": false,
     "start_time": "2023-11-27T13:50:04.780441",
     "status": "completed"
    },
    "tags": []
   },
   "outputs": [],
   "source": [
    "dt[\"Age Interval\"] = 0.0\n",
    "dt.loc[ dt['Age'] <= 16, 'Age Interval']  = 0\n",
    "dt.loc[(dt['Age'] > 16) & (dt['Age'] <= 32), 'Age Interval'] = 1\n",
    "dt.loc[(dt['Age'] > 32) & (dt['Age'] <= 48), 'Age Interval'] = 2\n",
    "dt.loc[(dt['Age'] > 48) & (dt['Age'] <= 64), 'Age Interval'] = 3\n",
    "dt.loc[ dt['Age'] > 64, 'Age Interval'] = 4"
   ]
  },
  {
   "cell_type": "code",
   "execution_count": 24,
   "id": "f83c3f76",
   "metadata": {
    "execution": {
     "iopub.execute_input": "2023-11-27T13:50:04.861984Z",
     "iopub.status.busy": "2023-11-27T13:50:04.861602Z",
     "iopub.status.idle": "2023-11-27T13:50:04.874105Z",
     "shell.execute_reply": "2023-11-27T13:50:04.872996Z"
    },
    "papermill": {
     "duration": 0.037361,
     "end_time": "2023-11-27T13:50:04.876674",
     "exception": false,
     "start_time": "2023-11-27T13:50:04.839313",
     "status": "completed"
    },
    "tags": []
   },
   "outputs": [],
   "source": [
    "train_df[\"Age Interval\"] = 0.0\n",
    "train_df.loc[train_df['Age'] <= 16, 'Age Interval']  = 0\n",
    "train_df.loc[(train_df['Age'] > 16) & (train_df['Age'] <= 32), 'Age Interval'] = 1\n",
    "train_df.loc[(train_df['Age'] > 32) & (train_df['Age'] <= 48), 'Age Interval'] = 2\n",
    "train_df.loc[(train_df['Age'] > 48) & (train_df['Age'] <= 64), 'Age Interval'] = 3\n",
    "train_df.loc[ train_df['Age'] > 64, 'Age Interval'] = 4"
   ]
  },
  {
   "cell_type": "code",
   "execution_count": 25,
   "id": "f36b56e1",
   "metadata": {
    "execution": {
     "iopub.execute_input": "2023-11-27T13:50:04.921989Z",
     "iopub.status.busy": "2023-11-27T13:50:04.921602Z",
     "iopub.status.idle": "2023-11-27T13:50:05.264927Z",
     "shell.execute_reply": "2023-11-27T13:50:05.264063Z"
    },
    "papermill": {
     "duration": 0.369782,
     "end_time": "2023-11-27T13:50:05.267446",
     "exception": false,
     "start_time": "2023-11-27T13:50:04.897664",
     "status": "completed"
    },
    "tags": []
   },
   "outputs": [
    {
     "data": {
      "image/png": "[encoded data removed]",
      "text/plain": [
       "<Figure size 800x400 with 1 Axes>"
      ]
     },
     "metadata": {},
     "output_type": "display_data"
    }
   ],
   "source": [
    "dv.plot_count_pairs(dt, \"Age Interval\", \"Age (grouped by dataset)\")"
   ]
  },
  {
   "cell_type": "code",
   "execution_count": 26,
   "id": "56b05df2",
   "metadata": {
    "execution": {
     "iopub.execute_input": "2023-11-27T13:50:05.312144Z",
     "iopub.status.busy": "2023-11-27T13:50:05.311673Z",
     "iopub.status.idle": "2023-11-27T13:50:05.626719Z",
     "shell.execute_reply": "2023-11-27T13:50:05.625511Z"
    },
    "papermill": {
     "duration": 0.340545,
     "end_time": "2023-11-27T13:50:05.629078",
     "exception": false,
     "start_time": "2023-11-27T13:50:05.288533",
     "status": "completed"
    },
    "tags": []
   },
   "outputs": [
    {
     "data": {
      "image/png": "[encoded data removed]",
      "text/plain": [
       "<Figure size 800x400 with 1 Axes>"
      ]
     },
     "metadata": {},
     "output_type": "display_data"
    }
   ],
   "source": [
    "dv.plot_count_pairs(dt, \"Age Interval\", \"Age (grouped by survival)\", hue=\"Survived\")\n"
   ]
  },
  {
   "cell_type": "code",
   "execution_count": 27,
   "id": "6b71201b",
   "metadata": {
    "execution": {
     "iopub.execute_input": "2023-11-27T13:50:05.674763Z",
     "iopub.status.busy": "2023-11-27T13:50:05.674271Z",
     "iopub.status.idle": "2023-11-27T13:50:05.946141Z",
     "shell.execute_reply": "2023-11-27T13:50:05.944949Z"
    },
    "papermill": {
     "duration": 0.298321,
     "end_time": "2023-11-27T13:50:05.949035",
     "exception": false,
     "start_time": "2023-11-27T13:50:05.650714",
     "status": "completed"
    },
    "tags": []
   },
   "outputs": [],
   "source": [
    "dt[['Family Name','Title','Given Name' , 'Maiden Name']] = dt.apply(lambda row: dv.parse_names(row), axis=1)"
   ]
  },
  {
   "cell_type": "code",
   "execution_count": 28,
   "id": "5ad8016c",
   "metadata": {
    "execution": {
     "iopub.execute_input": "2023-11-27T13:50:05.994669Z",
     "iopub.status.busy": "2023-11-27T13:50:05.994156Z",
     "iopub.status.idle": "2023-11-27T13:50:06.019755Z",
     "shell.execute_reply": "2023-11-27T13:50:06.018563Z"
    },
    "papermill": {
     "duration": 0.052076,
     "end_time": "2023-11-27T13:50:06.022538",
     "exception": false,
     "start_time": "2023-11-27T13:50:05.970462",
     "status": "completed"
    },
    "tags": []
   },
   "outputs": [
    {
     "data": {
      "text/html": [
       "<div>\n",
       "<style scoped>\n",
       "    .dataframe tbody tr th:only-of-type {\n",
       "        vertical-align: middle;\n",
       "    }\n",
       "\n",
       "    .dataframe tbody tr th {\n",
       "        vertical-align: top;\n",
       "    }\n",
       "\n",
       "    .dataframe thead th {\n",
       "        text-align: right;\n",
       "    }\n",
       "</style>\n",
       "<table border=\"1\" class=\"dataframe\">\n",
       "  <thead>\n",
       "    <tr style=\"text-align: right;\">\n",
       "      <th></th>\n",
       "      <th>PassengerId</th>\n",
       "      <th>Survived</th>\n",
       "      <th>Pclass</th>\n",
       "      <th>Name</th>\n",
       "      <th>Sex</th>\n",
       "      <th>Age</th>\n",
       "      <th>SibSp</th>\n",
       "      <th>Parch</th>\n",
       "      <th>Ticket</th>\n",
       "      <th>Fare</th>\n",
       "      <th>Cabin</th>\n",
       "      <th>Embarked</th>\n",
       "      <th>set</th>\n",
       "      <th>Family_size</th>\n",
       "      <th>Age Interval</th>\n",
       "      <th>Family Name</th>\n",
       "      <th>Title</th>\n",
       "      <th>Given Name</th>\n",
       "      <th>Maiden Name</th>\n",
       "    </tr>\n",
       "  </thead>\n",
       "  <tbody>\n",
       "    <tr>\n",
       "      <th>0</th>\n",
       "      <td>1</td>\n",
       "      <td>0.0</td>\n",
       "      <td>3</td>\n",
       "      <td>Braund, Mr. Owen Harris</td>\n",
       "      <td>male</td>\n",
       "      <td>22.0</td>\n",
       "      <td>1</td>\n",
       "      <td>0</td>\n",
       "      <td>A/5 21171</td>\n",
       "      <td>7.2500</td>\n",
       "      <td>NaN</td>\n",
       "      <td>S</td>\n",
       "      <td>train</td>\n",
       "      <td>2</td>\n",
       "      <td>1.0</td>\n",
       "      <td>Braund</td>\n",
       "      <td>Mr.</td>\n",
       "      <td>Owen Harris</td>\n",
       "      <td>None</td>\n",
       "    </tr>\n",
       "    <tr>\n",
       "      <th>1</th>\n",
       "      <td>2</td>\n",
       "      <td>1.0</td>\n",
       "      <td>1</td>\n",
       "      <td>Cumings, Mrs. John Bradley (Florence Briggs Th...</td>\n",
       "      <td>female</td>\n",
       "      <td>38.0</td>\n",
       "      <td>1</td>\n",
       "      <td>0</td>\n",
       "      <td>PC 17599</td>\n",
       "      <td>71.2833</td>\n",
       "      <td>C85</td>\n",
       "      <td>C</td>\n",
       "      <td>train</td>\n",
       "      <td>2</td>\n",
       "      <td>2.0</td>\n",
       "      <td>Cumings</td>\n",
       "      <td>Mrs.</td>\n",
       "      <td>John Bradley</td>\n",
       "      <td>Florence Briggs Thayer</td>\n",
       "    </tr>\n",
       "  </tbody>\n",
       "</table>\n",
       "</div>"
      ],
      "text/plain": [
       "   PassengerId  Survived  Pclass  \\\n",
       "0            1       0.0       3   \n",
       "1            2       1.0       1   \n",
       "\n",
       "                                                Name     Sex   Age  SibSp  \\\n",
       "0                            Braund, Mr. Owen Harris    male  22.0      1   \n",
       "1  Cumings, Mrs. John Bradley (Florence Briggs Th...  female  38.0      1   \n",
       "\n",
       "   Parch     Ticket     Fare Cabin Embarked    set  Family_size  Age Interval  \\\n",
       "0      0  A/5 21171   7.2500   NaN        S  train            2           1.0   \n",
       "1      0   PC 17599  71.2833   C85        C  train            2           2.0   \n",
       "\n",
       "  Family Name  Title      Given Name             Maiden Name  \n",
       "0      Braund    Mr.     Owen Harris                    None  \n",
       "1     Cumings   Mrs.   John Bradley   Florence Briggs Thayer  "
      ]
     },
     "execution_count": 28,
     "metadata": {},
     "output_type": "execute_result"
    }
   ],
   "source": [
    "dt.head(2)"
   ]
  },
  {
   "cell_type": "code",
   "execution_count": 29,
   "id": "d48cf1c9",
   "metadata": {
    "execution": {
     "iopub.execute_input": "2023-11-27T13:50:06.068208Z",
     "iopub.status.busy": "2023-11-27T13:50:06.067816Z",
     "iopub.status.idle": "2023-11-27T13:50:06.103658Z",
     "shell.execute_reply": "2023-11-27T13:50:06.102275Z"
    },
    "papermill": {
     "duration": 0.061539,
     "end_time": "2023-11-27T13:50:06.106193",
     "exception": false,
     "start_time": "2023-11-27T13:50:06.044654",
     "status": "completed"
    },
    "tags": []
   },
   "outputs": [
    {
     "data": {
      "text/html": [
       "<div>\n",
       "<style scoped>\n",
       "    .dataframe tbody tr th:only-of-type {\n",
       "        vertical-align: middle;\n",
       "    }\n",
       "\n",
       "    .dataframe tbody tr th {\n",
       "        vertical-align: top;\n",
       "    }\n",
       "\n",
       "    .dataframe thead th {\n",
       "        text-align: right;\n",
       "    }\n",
       "</style>\n",
       "<table border=\"1\" class=\"dataframe\">\n",
       "  <thead>\n",
       "    <tr style=\"text-align: right;\">\n",
       "      <th>Title</th>\n",
       "      <th>Capt.</th>\n",
       "      <th>Col.</th>\n",
       "      <th>Don.</th>\n",
       "      <th>Dona.</th>\n",
       "      <th>Dr.</th>\n",
       "      <th>Jonkheer.</th>\n",
       "      <th>Lady.</th>\n",
       "      <th>Major.</th>\n",
       "      <th>Master.</th>\n",
       "      <th>Miss.</th>\n",
       "      <th>Mlle.</th>\n",
       "      <th>Mme.</th>\n",
       "      <th>Mr.</th>\n",
       "      <th>Mrs.</th>\n",
       "      <th>Ms.</th>\n",
       "      <th>Rev.</th>\n",
       "      <th>Sir.</th>\n",
       "      <th>the Countess.</th>\n",
       "    </tr>\n",
       "    <tr>\n",
       "      <th>Age Interval</th>\n",
       "      <th></th>\n",
       "      <th></th>\n",
       "      <th></th>\n",
       "      <th></th>\n",
       "      <th></th>\n",
       "      <th></th>\n",
       "      <th></th>\n",
       "      <th></th>\n",
       "      <th></th>\n",
       "      <th></th>\n",
       "      <th></th>\n",
       "      <th></th>\n",
       "      <th></th>\n",
       "      <th></th>\n",
       "      <th></th>\n",
       "      <th></th>\n",
       "      <th></th>\n",
       "      <th></th>\n",
       "    </tr>\n",
       "  </thead>\n",
       "  <tbody>\n",
       "    <tr>\n",
       "      <th>0.0</th>\n",
       "      <td>0</td>\n",
       "      <td>0</td>\n",
       "      <td>0</td>\n",
       "      <td>0</td>\n",
       "      <td>1</td>\n",
       "      <td>0</td>\n",
       "      <td>0</td>\n",
       "      <td>0</td>\n",
       "      <td>61</td>\n",
       "      <td>111</td>\n",
       "      <td>0</td>\n",
       "      <td>0</td>\n",
       "      <td>193</td>\n",
       "      <td>30</td>\n",
       "      <td>1</td>\n",
       "      <td>0</td>\n",
       "      <td>0</td>\n",
       "      <td>0</td>\n",
       "    </tr>\n",
       "    <tr>\n",
       "      <th>1.0</th>\n",
       "      <td>0</td>\n",
       "      <td>0</td>\n",
       "      <td>0</td>\n",
       "      <td>0</td>\n",
       "      <td>2</td>\n",
       "      <td>0</td>\n",
       "      <td>0</td>\n",
       "      <td>0</td>\n",
       "      <td>0</td>\n",
       "      <td>113</td>\n",
       "      <td>2</td>\n",
       "      <td>1</td>\n",
       "      <td>334</td>\n",
       "      <td>68</td>\n",
       "      <td>1</td>\n",
       "      <td>3</td>\n",
       "      <td>0</td>\n",
       "      <td>0</td>\n",
       "    </tr>\n",
       "    <tr>\n",
       "      <th>2.0</th>\n",
       "      <td>0</td>\n",
       "      <td>1</td>\n",
       "      <td>1</td>\n",
       "      <td>1</td>\n",
       "      <td>1</td>\n",
       "      <td>1</td>\n",
       "      <td>1</td>\n",
       "      <td>1</td>\n",
       "      <td>0</td>\n",
       "      <td>29</td>\n",
       "      <td>0</td>\n",
       "      <td>0</td>\n",
       "      <td>163</td>\n",
       "      <td>67</td>\n",
       "      <td>0</td>\n",
       "      <td>2</td>\n",
       "      <td>0</td>\n",
       "      <td>1</td>\n",
       "    </tr>\n",
       "    <tr>\n",
       "      <th>3.0</th>\n",
       "      <td>0</td>\n",
       "      <td>3</td>\n",
       "      <td>0</td>\n",
       "      <td>0</td>\n",
       "      <td>4</td>\n",
       "      <td>0</td>\n",
       "      <td>0</td>\n",
       "      <td>1</td>\n",
       "      <td>0</td>\n",
       "      <td>7</td>\n",
       "      <td>0</td>\n",
       "      <td>0</td>\n",
       "      <td>56</td>\n",
       "      <td>31</td>\n",
       "      <td>0</td>\n",
       "      <td>3</td>\n",
       "      <td>1</td>\n",
       "      <td>0</td>\n",
       "    </tr>\n",
       "    <tr>\n",
       "      <th>4.0</th>\n",
       "      <td>1</td>\n",
       "      <td>0</td>\n",
       "      <td>0</td>\n",
       "      <td>0</td>\n",
       "      <td>0</td>\n",
       "      <td>0</td>\n",
       "      <td>0</td>\n",
       "      <td>0</td>\n",
       "      <td>0</td>\n",
       "      <td>0</td>\n",
       "      <td>0</td>\n",
       "      <td>0</td>\n",
       "      <td>11</td>\n",
       "      <td>1</td>\n",
       "      <td>0</td>\n",
       "      <td>0</td>\n",
       "      <td>0</td>\n",
       "      <td>0</td>\n",
       "    </tr>\n",
       "  </tbody>\n",
       "</table>\n",
       "</div>"
      ],
      "text/plain": [
       "Title          Capt.   Col.   Don.   Dona.   Dr.   Jonkheer.   Lady.   Major.  \\\n",
       "Age Interval                                                                    \n",
       "0.0                0      0      0       0     1           0       0        0   \n",
       "1.0                0      0      0       0     2           0       0        0   \n",
       "2.0                0      1      1       1     1           1       1        1   \n",
       "3.0                0      3      0       0     4           0       0        1   \n",
       "4.0                1      0      0       0     0           0       0        0   \n",
       "\n",
       "Title          Master.   Miss.   Mlle.   Mme.   Mr.   Mrs.   Ms.   Rev.  \\\n",
       "Age Interval                                                              \n",
       "0.0                 61     111       0      0   193     30     1      0   \n",
       "1.0                  0     113       2      1   334     68     1      3   \n",
       "2.0                  0      29       0      0   163     67     0      2   \n",
       "3.0                  0       7       0      0    56     31     0      3   \n",
       "4.0                  0       0       0      0    11      1     0      0   \n",
       "\n",
       "Title          Sir.   the Countess.  \n",
       "Age Interval                         \n",
       "0.0               0               0  \n",
       "1.0               0               0  \n",
       "2.0               0               1  \n",
       "3.0               1               0  \n",
       "4.0               0               0  "
      ]
     },
     "execution_count": 29,
     "metadata": {},
     "output_type": "execute_result"
    }
   ],
   "source": [
    "np.transpose(pd.crosstab(dt['Title'], dt['Age Interval']))"
   ]
  },
  {
   "cell_type": "code",
   "execution_count": 30,
   "id": "1dbc6879",
   "metadata": {
    "execution": {
     "iopub.execute_input": "2023-11-27T13:50:06.152713Z",
     "iopub.status.busy": "2023-11-27T13:50:06.152287Z",
     "iopub.status.idle": "2023-11-27T13:50:06.178701Z",
     "shell.execute_reply": "2023-11-27T13:50:06.177616Z"
    },
    "papermill": {
     "duration": 0.052406,
     "end_time": "2023-11-27T13:50:06.181133",
     "exception": false,
     "start_time": "2023-11-27T13:50:06.128727",
     "status": "completed"
    },
    "tags": []
   },
   "outputs": [
    {
     "data": {
      "text/html": [
       "<div>\n",
       "<style scoped>\n",
       "    .dataframe tbody tr th:only-of-type {\n",
       "        vertical-align: middle;\n",
       "    }\n",
       "\n",
       "    .dataframe tbody tr th {\n",
       "        vertical-align: top;\n",
       "    }\n",
       "\n",
       "    .dataframe thead th {\n",
       "        text-align: right;\n",
       "    }\n",
       "</style>\n",
       "<table border=\"1\" class=\"dataframe\">\n",
       "  <thead>\n",
       "    <tr style=\"text-align: right;\">\n",
       "      <th>Title</th>\n",
       "      <th>Capt.</th>\n",
       "      <th>Col.</th>\n",
       "      <th>Don.</th>\n",
       "      <th>Dona.</th>\n",
       "      <th>Dr.</th>\n",
       "      <th>Jonkheer.</th>\n",
       "      <th>Lady.</th>\n",
       "      <th>Major.</th>\n",
       "      <th>Master.</th>\n",
       "      <th>Miss.</th>\n",
       "      <th>Mlle.</th>\n",
       "      <th>Mme.</th>\n",
       "      <th>Mr.</th>\n",
       "      <th>Mrs.</th>\n",
       "      <th>Ms.</th>\n",
       "      <th>Rev.</th>\n",
       "      <th>Sir.</th>\n",
       "      <th>the Countess.</th>\n",
       "    </tr>\n",
       "    <tr>\n",
       "      <th>Sex</th>\n",
       "      <th></th>\n",
       "      <th></th>\n",
       "      <th></th>\n",
       "      <th></th>\n",
       "      <th></th>\n",
       "      <th></th>\n",
       "      <th></th>\n",
       "      <th></th>\n",
       "      <th></th>\n",
       "      <th></th>\n",
       "      <th></th>\n",
       "      <th></th>\n",
       "      <th></th>\n",
       "      <th></th>\n",
       "      <th></th>\n",
       "      <th></th>\n",
       "      <th></th>\n",
       "      <th></th>\n",
       "    </tr>\n",
       "  </thead>\n",
       "  <tbody>\n",
       "    <tr>\n",
       "      <th>female</th>\n",
       "      <td>0</td>\n",
       "      <td>0</td>\n",
       "      <td>0</td>\n",
       "      <td>1</td>\n",
       "      <td>1</td>\n",
       "      <td>0</td>\n",
       "      <td>1</td>\n",
       "      <td>0</td>\n",
       "      <td>0</td>\n",
       "      <td>260</td>\n",
       "      <td>2</td>\n",
       "      <td>1</td>\n",
       "      <td>0</td>\n",
       "      <td>197</td>\n",
       "      <td>2</td>\n",
       "      <td>0</td>\n",
       "      <td>0</td>\n",
       "      <td>1</td>\n",
       "    </tr>\n",
       "    <tr>\n",
       "      <th>male</th>\n",
       "      <td>1</td>\n",
       "      <td>4</td>\n",
       "      <td>1</td>\n",
       "      <td>0</td>\n",
       "      <td>7</td>\n",
       "      <td>1</td>\n",
       "      <td>0</td>\n",
       "      <td>2</td>\n",
       "      <td>61</td>\n",
       "      <td>0</td>\n",
       "      <td>0</td>\n",
       "      <td>0</td>\n",
       "      <td>757</td>\n",
       "      <td>0</td>\n",
       "      <td>0</td>\n",
       "      <td>8</td>\n",
       "      <td>1</td>\n",
       "      <td>0</td>\n",
       "    </tr>\n",
       "  </tbody>\n",
       "</table>\n",
       "</div>"
      ],
      "text/plain": [
       "Title    Capt.   Col.   Don.   Dona.   Dr.   Jonkheer.   Lady.   Major.  \\\n",
       "Sex                                                                       \n",
       "female       0      0      0       1     1           0       1        0   \n",
       "male         1      4      1       0     7           1       0        2   \n",
       "\n",
       "Title    Master.   Miss.   Mlle.   Mme.   Mr.   Mrs.   Ms.   Rev.   Sir.  \\\n",
       "Sex                                                                        \n",
       "female         0     260       2      1     0    197     2      0      0   \n",
       "male          61       0       0      0   757      0     0      8      1   \n",
       "\n",
       "Title    the Countess.  \n",
       "Sex                     \n",
       "female               1  \n",
       "male                 0  "
      ]
     },
     "execution_count": 30,
     "metadata": {},
     "output_type": "execute_result"
    }
   ],
   "source": [
    "np.transpose(pd.crosstab(dt['Title'], dt['Sex']))"
   ]
  },
  {
   "cell_type": "code",
   "execution_count": 31,
   "id": "7f9eba87",
   "metadata": {
    "execution": {
     "iopub.execute_input": "2023-11-27T13:50:06.230827Z",
     "iopub.status.busy": "2023-11-27T13:50:06.230417Z",
     "iopub.status.idle": "2023-11-27T13:50:06.259239Z",
     "shell.execute_reply": "2023-11-27T13:50:06.258169Z"
    },
    "papermill": {
     "duration": 0.056214,
     "end_time": "2023-11-27T13:50:06.261925",
     "exception": false,
     "start_time": "2023-11-27T13:50:06.205711",
     "status": "completed"
    },
    "tags": []
   },
   "outputs": [
    {
     "data": {
      "text/html": [
       "<div>\n",
       "<style scoped>\n",
       "    .dataframe tbody tr th:only-of-type {\n",
       "        vertical-align: middle;\n",
       "    }\n",
       "\n",
       "    .dataframe tbody tr th {\n",
       "        vertical-align: top;\n",
       "    }\n",
       "\n",
       "    .dataframe thead th {\n",
       "        text-align: right;\n",
       "    }\n",
       "</style>\n",
       "<table border=\"1\" class=\"dataframe\">\n",
       "  <thead>\n",
       "    <tr style=\"text-align: right;\">\n",
       "      <th>Title</th>\n",
       "      <th>Capt.</th>\n",
       "      <th>Col.</th>\n",
       "      <th>Don.</th>\n",
       "      <th>Dona.</th>\n",
       "      <th>Dr.</th>\n",
       "      <th>Jonkheer.</th>\n",
       "      <th>Lady.</th>\n",
       "      <th>Major.</th>\n",
       "      <th>Master.</th>\n",
       "      <th>Miss.</th>\n",
       "      <th>Mlle.</th>\n",
       "      <th>Mme.</th>\n",
       "      <th>Mr.</th>\n",
       "      <th>Mrs.</th>\n",
       "      <th>Ms.</th>\n",
       "      <th>Rev.</th>\n",
       "      <th>Sir.</th>\n",
       "      <th>the Countess.</th>\n",
       "    </tr>\n",
       "    <tr>\n",
       "      <th>SibSp</th>\n",
       "      <th></th>\n",
       "      <th></th>\n",
       "      <th></th>\n",
       "      <th></th>\n",
       "      <th></th>\n",
       "      <th></th>\n",
       "      <th></th>\n",
       "      <th></th>\n",
       "      <th></th>\n",
       "      <th></th>\n",
       "      <th></th>\n",
       "      <th></th>\n",
       "      <th></th>\n",
       "      <th></th>\n",
       "      <th></th>\n",
       "      <th></th>\n",
       "      <th></th>\n",
       "      <th></th>\n",
       "    </tr>\n",
       "  </thead>\n",
       "  <tbody>\n",
       "    <tr>\n",
       "      <th>0</th>\n",
       "      <td>0</td>\n",
       "      <td>3</td>\n",
       "      <td>1</td>\n",
       "      <td>1</td>\n",
       "      <td>5</td>\n",
       "      <td>1</td>\n",
       "      <td>0</td>\n",
       "      <td>2</td>\n",
       "      <td>13</td>\n",
       "      <td>178</td>\n",
       "      <td>2</td>\n",
       "      <td>1</td>\n",
       "      <td>599</td>\n",
       "      <td>76</td>\n",
       "      <td>2</td>\n",
       "      <td>6</td>\n",
       "      <td>0</td>\n",
       "      <td>1</td>\n",
       "    </tr>\n",
       "    <tr>\n",
       "      <th>1</th>\n",
       "      <td>1</td>\n",
       "      <td>1</td>\n",
       "      <td>0</td>\n",
       "      <td>0</td>\n",
       "      <td>1</td>\n",
       "      <td>0</td>\n",
       "      <td>1</td>\n",
       "      <td>0</td>\n",
       "      <td>23</td>\n",
       "      <td>45</td>\n",
       "      <td>0</td>\n",
       "      <td>0</td>\n",
       "      <td>130</td>\n",
       "      <td>114</td>\n",
       "      <td>0</td>\n",
       "      <td>2</td>\n",
       "      <td>1</td>\n",
       "      <td>0</td>\n",
       "    </tr>\n",
       "    <tr>\n",
       "      <th>2</th>\n",
       "      <td>0</td>\n",
       "      <td>0</td>\n",
       "      <td>0</td>\n",
       "      <td>0</td>\n",
       "      <td>2</td>\n",
       "      <td>0</td>\n",
       "      <td>0</td>\n",
       "      <td>0</td>\n",
       "      <td>2</td>\n",
       "      <td>14</td>\n",
       "      <td>0</td>\n",
       "      <td>0</td>\n",
       "      <td>19</td>\n",
       "      <td>5</td>\n",
       "      <td>0</td>\n",
       "      <td>0</td>\n",
       "      <td>0</td>\n",
       "      <td>0</td>\n",
       "    </tr>\n",
       "    <tr>\n",
       "      <th>3</th>\n",
       "      <td>0</td>\n",
       "      <td>0</td>\n",
       "      <td>0</td>\n",
       "      <td>0</td>\n",
       "      <td>0</td>\n",
       "      <td>0</td>\n",
       "      <td>0</td>\n",
       "      <td>0</td>\n",
       "      <td>5</td>\n",
       "      <td>10</td>\n",
       "      <td>0</td>\n",
       "      <td>0</td>\n",
       "      <td>3</td>\n",
       "      <td>2</td>\n",
       "      <td>0</td>\n",
       "      <td>0</td>\n",
       "      <td>0</td>\n",
       "      <td>0</td>\n",
       "    </tr>\n",
       "    <tr>\n",
       "      <th>4</th>\n",
       "      <td>0</td>\n",
       "      <td>0</td>\n",
       "      <td>0</td>\n",
       "      <td>0</td>\n",
       "      <td>0</td>\n",
       "      <td>0</td>\n",
       "      <td>0</td>\n",
       "      <td>0</td>\n",
       "      <td>13</td>\n",
       "      <td>7</td>\n",
       "      <td>0</td>\n",
       "      <td>0</td>\n",
       "      <td>2</td>\n",
       "      <td>0</td>\n",
       "      <td>0</td>\n",
       "      <td>0</td>\n",
       "      <td>0</td>\n",
       "      <td>0</td>\n",
       "    </tr>\n",
       "    <tr>\n",
       "      <th>5</th>\n",
       "      <td>0</td>\n",
       "      <td>0</td>\n",
       "      <td>0</td>\n",
       "      <td>0</td>\n",
       "      <td>0</td>\n",
       "      <td>0</td>\n",
       "      <td>0</td>\n",
       "      <td>0</td>\n",
       "      <td>3</td>\n",
       "      <td>2</td>\n",
       "      <td>0</td>\n",
       "      <td>0</td>\n",
       "      <td>1</td>\n",
       "      <td>0</td>\n",
       "      <td>0</td>\n",
       "      <td>0</td>\n",
       "      <td>0</td>\n",
       "      <td>0</td>\n",
       "    </tr>\n",
       "    <tr>\n",
       "      <th>8</th>\n",
       "      <td>0</td>\n",
       "      <td>0</td>\n",
       "      <td>0</td>\n",
       "      <td>0</td>\n",
       "      <td>0</td>\n",
       "      <td>0</td>\n",
       "      <td>0</td>\n",
       "      <td>0</td>\n",
       "      <td>2</td>\n",
       "      <td>4</td>\n",
       "      <td>0</td>\n",
       "      <td>0</td>\n",
       "      <td>3</td>\n",
       "      <td>0</td>\n",
       "      <td>0</td>\n",
       "      <td>0</td>\n",
       "      <td>0</td>\n",
       "      <td>0</td>\n",
       "    </tr>\n",
       "  </tbody>\n",
       "</table>\n",
       "</div>"
      ],
      "text/plain": [
       "Title   Capt.   Col.   Don.   Dona.   Dr.   Jonkheer.   Lady.   Major.  \\\n",
       "SibSp                                                                    \n",
       "0           0      3      1       1     5           1       0        2   \n",
       "1           1      1      0       0     1           0       1        0   \n",
       "2           0      0      0       0     2           0       0        0   \n",
       "3           0      0      0       0     0           0       0        0   \n",
       "4           0      0      0       0     0           0       0        0   \n",
       "5           0      0      0       0     0           0       0        0   \n",
       "8           0      0      0       0     0           0       0        0   \n",
       "\n",
       "Title   Master.   Miss.   Mlle.   Mme.   Mr.   Mrs.   Ms.   Rev.   Sir.  \\\n",
       "SibSp                                                                     \n",
       "0            13     178       2      1   599     76     2      6      0   \n",
       "1            23      45       0      0   130    114     0      2      1   \n",
       "2             2      14       0      0    19      5     0      0      0   \n",
       "3             5      10       0      0     3      2     0      0      0   \n",
       "4            13       7       0      0     2      0     0      0      0   \n",
       "5             3       2       0      0     1      0     0      0      0   \n",
       "8             2       4       0      0     3      0     0      0      0   \n",
       "\n",
       "Title   the Countess.  \n",
       "SibSp                  \n",
       "0                   1  \n",
       "1                   0  \n",
       "2                   0  \n",
       "3                   0  \n",
       "4                   0  \n",
       "5                   0  \n",
       "8                   0  "
      ]
     },
     "execution_count": 31,
     "metadata": {},
     "output_type": "execute_result"
    }
   ],
   "source": [
    "np.transpose(pd.crosstab(dt['Title'], dt['SibSp']))"
   ]
  },
  {
   "cell_type": "markdown",
   "id": "7fdd36f4",
   "metadata": {
    "papermill": {
     "duration": 0.022481,
     "end_time": "2023-11-27T13:50:06.308385",
     "exception": false,
     "start_time": "2023-11-27T13:50:06.285904",
     "status": "completed"
    },
    "tags": []
   },
   "source": [
    "# Model builidng : Basemodel"
   ]
  },
  {
   "cell_type": "code",
   "execution_count": 32,
   "id": "78c34316",
   "metadata": {
    "execution": {
     "iopub.execute_input": "2023-11-27T13:50:06.356065Z",
     "iopub.status.busy": "2023-11-27T13:50:06.355676Z",
     "iopub.status.idle": "2023-11-27T13:50:06.993773Z",
     "shell.execute_reply": "2023-11-27T13:50:06.992272Z"
    },
    "papermill": {
     "duration": 0.665305,
     "end_time": "2023-11-27T13:50:06.996505",
     "exception": false,
     "start_time": "2023-11-27T13:50:06.331200",
     "status": "completed"
    },
    "tags": []
   },
   "outputs": [],
   "source": [
    "from sklearn.model_selection import train_test_split\n",
    "from sklearn import metrics\n",
    "from sklearn.metrics import roc_auc_score\n",
    "from sklearn.ensemble import RandomForestClassifier"
   ]
  },
  {
   "cell_type": "code",
   "execution_count": 33,
   "id": "7c88fd94",
   "metadata": {
    "execution": {
     "iopub.execute_input": "2023-11-27T13:50:07.045732Z",
     "iopub.status.busy": "2023-11-27T13:50:07.045254Z",
     "iopub.status.idle": "2023-11-27T13:50:07.055124Z",
     "shell.execute_reply": "2023-11-27T13:50:07.053983Z"
    },
    "papermill": {
     "duration": 0.037575,
     "end_time": "2023-11-27T13:50:07.057611",
     "exception": false,
     "start_time": "2023-11-27T13:50:07.020036",
     "status": "completed"
    },
    "tags": []
   },
   "outputs": [],
   "source": [
    "for dataset in [train_df, test_df]:\n",
    "    dataset['Sex'] = dataset['Sex'].map( {'female': 1, 'male': 0} ).astype(int)"
   ]
  },
  {
   "cell_type": "code",
   "execution_count": 34,
   "id": "503ebb23",
   "metadata": {
    "execution": {
     "iopub.execute_input": "2023-11-27T13:50:07.105668Z",
     "iopub.status.busy": "2023-11-27T13:50:07.105140Z",
     "iopub.status.idle": "2023-11-27T13:50:07.114211Z",
     "shell.execute_reply": "2023-11-27T13:50:07.112997Z"
    },
    "papermill": {
     "duration": 0.036355,
     "end_time": "2023-11-27T13:50:07.116675",
     "exception": false,
     "start_time": "2023-11-27T13:50:07.080320",
     "status": "completed"
    },
    "tags": []
   },
   "outputs": [],
   "source": [
    "VALID_SIZE = 0.2\n",
    "train, valid = train_test_split(train_df, test_size=VALID_SIZE, random_state=42, shuffle=True)"
   ]
  },
  {
   "cell_type": "code",
   "execution_count": 35,
   "id": "3ef8fa65",
   "metadata": {
    "execution": {
     "iopub.execute_input": "2023-11-27T13:50:07.164490Z",
     "iopub.status.busy": "2023-11-27T13:50:07.164021Z",
     "iopub.status.idle": "2023-11-27T13:50:07.169711Z",
     "shell.execute_reply": "2023-11-27T13:50:07.168372Z"
    },
    "papermill": {
     "duration": 0.032527,
     "end_time": "2023-11-27T13:50:07.172200",
     "exception": false,
     "start_time": "2023-11-27T13:50:07.139673",
     "status": "completed"
    },
    "tags": []
   },
   "outputs": [],
   "source": [
    "predictors = [\"Sex\", \"Pclass\"]\n",
    "target = 'Survived'"
   ]
  },
  {
   "cell_type": "code",
   "execution_count": 36,
   "id": "259322e7",
   "metadata": {
    "execution": {
     "iopub.execute_input": "2023-11-27T13:50:07.220682Z",
     "iopub.status.busy": "2023-11-27T13:50:07.220280Z",
     "iopub.status.idle": "2023-11-27T13:50:07.228072Z",
     "shell.execute_reply": "2023-11-27T13:50:07.227022Z"
    },
    "papermill": {
     "duration": 0.035462,
     "end_time": "2023-11-27T13:50:07.230976",
     "exception": false,
     "start_time": "2023-11-27T13:50:07.195514",
     "status": "completed"
    },
    "tags": []
   },
   "outputs": [],
   "source": [
    "train_X = train[predictors]\n",
    "train_Y = train[target].values\n",
    "valid_X = valid[predictors]\n",
    "valid_Y = valid[target].values"
   ]
  },
  {
   "cell_type": "code",
   "execution_count": 37,
   "id": "68b2be89",
   "metadata": {
    "execution": {
     "iopub.execute_input": "2023-11-27T13:50:07.279883Z",
     "iopub.status.busy": "2023-11-27T13:50:07.279444Z",
     "iopub.status.idle": "2023-11-27T13:50:07.285084Z",
     "shell.execute_reply": "2023-11-27T13:50:07.283831Z"
    },
    "papermill": {
     "duration": 0.032869,
     "end_time": "2023-11-27T13:50:07.287488",
     "exception": false,
     "start_time": "2023-11-27T13:50:07.254619",
     "status": "completed"
    },
    "tags": []
   },
   "outputs": [],
   "source": [
    "clf = RandomForestClassifier(n_jobs=-1, \n",
    "                             random_state=42,\n",
    "                             criterion=\"gini\",\n",
    "                             n_estimators=100,\n",
    "                             verbose=False)"
   ]
  },
  {
   "cell_type": "code",
   "execution_count": 38,
   "id": "49d0cf99",
   "metadata": {
    "execution": {
     "iopub.execute_input": "2023-11-27T13:50:07.336936Z",
     "iopub.status.busy": "2023-11-27T13:50:07.336460Z",
     "iopub.status.idle": "2023-11-27T13:50:07.704691Z",
     "shell.execute_reply": "2023-11-27T13:50:07.703301Z"
    },
    "papermill": {
     "duration": 0.39626,
     "end_time": "2023-11-27T13:50:07.707365",
     "exception": false,
     "start_time": "2023-11-27T13:50:07.311105",
     "status": "completed"
    },
    "tags": []
   },
   "outputs": [
    {
     "data": {
      "text/html": [
       "<style>#sk-container-id-1 {color: black;background-color: white;}#sk-container-id-1 pre{padding: 0;}#sk-container-id-1 div.sk-toggleable {background-color: white;}#sk-container-id-1 label.sk-toggleable__label {cursor: pointer;display: block;width: 100%;margin-bottom: 0;padding: 0.3em;box-sizing: border-box;text-align: center;}#sk-container-id-1 label.sk-toggleable__label-arrow:before {content: \"▸\";float: left;margin-right: 0.25em;color: #696969;}#sk-container-id-1 label.sk-toggleable__label-arrow:hover:before {color: black;}#sk-container-id-1 div.sk-estimator:hover label.sk-toggleable__label-arrow:before {color: black;}#sk-container-id-1 div.sk-toggleable__content {max-height: 0;max-width: 0;overflow: hidden;text-align: left;background-color: #f0f8ff;}#sk-container-id-1 div.sk-toggleable__content pre {margin: 0.2em;color: black;border-radius: 0.25em;background-color: #f0f8ff;}#sk-container-id-1 input.sk-toggleable__control:checked~div.sk-toggleable__content {max-height: 200px;max-width: 100%;overflow: auto;}#sk-container-id-1 input.sk-toggleable__control:checked~label.sk-toggleable__label-arrow:before {content: \"▾\";}#sk-container-id-1 div.sk-estimator input.sk-toggleable__control:checked~label.sk-toggleable__label {background-color: #d4ebff;}#sk-container-id-1 div.sk-label input.sk-toggleable__control:checked~label.sk-toggleable__label {background-color: #d4ebff;}#sk-container-id-1 input.sk-hidden--visually {border: 0;clip: rect(1px 1px 1px 1px);clip: rect(1px, 1px, 1px, 1px);height: 1px;margin: -1px;overflow: hidden;padding: 0;position: absolute;width: 1px;}#sk-container-id-1 div.sk-estimator {font-family: monospace;background-color: #f0f8ff;border: 1px dotted black;border-radius: 0.25em;box-sizing: border-box;margin-bottom: 0.5em;}#sk-container-id-1 div.sk-estimator:hover {background-color: #d4ebff;}#sk-container-id-1 div.sk-parallel-item::after {content: \"\";width: 100%;border-bottom: 1px solid gray;flex-grow: 1;}#sk-container-id-1 div.sk-label:hover label.sk-toggleable__label {background-color: #d4ebff;}#sk-container-id-1 div.sk-serial::before {content: \"\";position: absolute;border-left: 1px solid gray;box-sizing: border-box;top: 0;bottom: 0;left: 50%;z-index: 0;}#sk-container-id-1 div.sk-serial {display: flex;flex-direction: column;align-items: center;background-color: white;padding-right: 0.2em;padding-left: 0.2em;position: relative;}#sk-container-id-1 div.sk-item {position: relative;z-index: 1;}#sk-container-id-1 div.sk-parallel {display: flex;align-items: stretch;justify-content: center;background-color: white;position: relative;}#sk-container-id-1 div.sk-item::before, #sk-container-id-1 div.sk-parallel-item::before {content: \"\";position: absolute;border-left: 1px solid gray;box-sizing: border-box;top: 0;bottom: 0;left: 50%;z-index: -1;}#sk-container-id-1 div.sk-parallel-item {display: flex;flex-direction: column;z-index: 1;position: relative;background-color: white;}#sk-container-id-1 div.sk-parallel-item:first-child::after {align-self: flex-end;width: 50%;}#sk-container-id-1 div.sk-parallel-item:last-child::after {align-self: flex-start;width: 50%;}#sk-container-id-1 div.sk-parallel-item:only-child::after {width: 0;}#sk-container-id-1 div.sk-dashed-wrapped {border: 1px dashed gray;margin: 0 0.4em 0.5em 0.4em;box-sizing: border-box;padding-bottom: 0.4em;background-color: white;}#sk-container-id-1 div.sk-label label {font-family: monospace;font-weight: bold;display: inline-block;line-height: 1.2em;}#sk-container-id-1 div.sk-label-container {text-align: center;}#sk-container-id-1 div.sk-container {/* jupyter's `normalize.less` sets `[hidden] { display: none; }` but bootstrap.min.css set `[hidden] { display: none !important; }` so we also need the `!important` here to be able to override the default hidden behavior on the sphinx rendered scikit-learn.org. See: https://github.com/scikit-learn/scikit-learn/issues/21755 */display: inline-block !important;position: relative;}#sk-container-id-1 div.sk-text-repr-fallback {display: none;}</style><div id=\"sk-container-id-1\" class=\"sk-top-container\"><div class=\"sk-text-repr-fallback\"><pre>RandomForestClassifier(n_jobs=-1, random_state=42, verbose=False)</pre><b>In a Jupyter environment, please rerun this cell to show the HTML representation or trust the notebook. <br />On GitHub, the HTML representation is unable to render, please try loading this page with nbviewer.org.</b></div><div class=\"sk-container\" hidden><div class=\"sk-item\"><div class=\"sk-estimator sk-toggleable\"><input class=\"sk-toggleable__control sk-hidden--visually\" id=\"sk-estimator-id-1\" type=\"checkbox\" checked><label for=\"sk-estimator-id-1\" class=\"sk-toggleable__label sk-toggleable__label-arrow\">RandomForestClassifier</label><div class=\"sk-toggleable__content\"><pre>RandomForestClassifier(n_jobs=-1, random_state=42, verbose=False)</pre></div></div></div></div></div>"
      ],
      "text/plain": [
       "RandomForestClassifier(n_jobs=-1, random_state=42, verbose=False)"
      ]
     },
     "execution_count": 38,
     "metadata": {},
     "output_type": "execute_result"
    }
   ],
   "source": [
    "clf.fit(train_X, train_Y)"
   ]
  },
  {
   "cell_type": "code",
   "execution_count": 39,
   "id": "57c8e934",
   "metadata": {
    "execution": {
     "iopub.execute_input": "2023-11-27T13:50:07.757073Z",
     "iopub.status.busy": "2023-11-27T13:50:07.756631Z",
     "iopub.status.idle": "2023-11-27T13:50:07.814300Z",
     "shell.execute_reply": "2023-11-27T13:50:07.813419Z"
    },
    "papermill": {
     "duration": 0.086013,
     "end_time": "2023-11-27T13:50:07.817116",
     "exception": false,
     "start_time": "2023-11-27T13:50:07.731103",
     "status": "completed"
    },
    "tags": []
   },
   "outputs": [],
   "source": [
    "preds_tr = clf.predict(train_X)"
   ]
  },
  {
   "cell_type": "code",
   "execution_count": 40,
   "id": "519e6a95",
   "metadata": {
    "execution": {
     "iopub.execute_input": "2023-11-27T13:50:07.868947Z",
     "iopub.status.busy": "2023-11-27T13:50:07.867719Z",
     "iopub.status.idle": "2023-11-27T13:50:07.911842Z",
     "shell.execute_reply": "2023-11-27T13:50:07.910615Z"
    },
    "papermill": {
     "duration": 0.072813,
     "end_time": "2023-11-27T13:50:07.915115",
     "exception": false,
     "start_time": "2023-11-27T13:50:07.842302",
     "status": "completed"
    },
    "tags": []
   },
   "outputs": [],
   "source": [
    "preds = clf.predict(valid_X)"
   ]
  },
  {
   "cell_type": "code",
   "execution_count": 41,
   "id": "4ec52628",
   "metadata": {
    "execution": {
     "iopub.execute_input": "2023-11-27T13:50:07.968228Z",
     "iopub.status.busy": "2023-11-27T13:50:07.967783Z",
     "iopub.status.idle": "2023-11-27T13:50:07.983249Z",
     "shell.execute_reply": "2023-11-27T13:50:07.982367Z"
    },
    "papermill": {
     "duration": 0.044516,
     "end_time": "2023-11-27T13:50:07.986012",
     "exception": false,
     "start_time": "2023-11-27T13:50:07.941496",
     "status": "completed"
    },
    "tags": []
   },
   "outputs": [
    {
     "name": "stdout",
     "output_type": "stream",
     "text": [
      "              precision    recall  f1-score   support\n",
      "\n",
      "Not Survived       0.75      0.99      0.86       444\n",
      "    Survived       0.96      0.47      0.63       268\n",
      "\n",
      "    accuracy                           0.79       712\n",
      "   macro avg       0.86      0.73      0.74       712\n",
      "weighted avg       0.83      0.79      0.77       712\n",
      "\n"
     ]
    }
   ],
   "source": [
    "print(metrics.classification_report(train_Y, preds_tr, target_names=['Not Survived', 'Survived']))\n"
   ]
  },
  {
   "cell_type": "code",
   "execution_count": 42,
   "id": "be6cda18",
   "metadata": {
    "execution": {
     "iopub.execute_input": "2023-11-27T13:50:08.038107Z",
     "iopub.status.busy": "2023-11-27T13:50:08.037119Z",
     "iopub.status.idle": "2023-11-27T13:50:08.051530Z",
     "shell.execute_reply": "2023-11-27T13:50:08.050165Z"
    },
    "papermill": {
     "duration": 0.042486,
     "end_time": "2023-11-27T13:50:08.053887",
     "exception": false,
     "start_time": "2023-11-27T13:50:08.011401",
     "status": "completed"
    },
    "tags": []
   },
   "outputs": [
    {
     "name": "stdout",
     "output_type": "stream",
     "text": [
      "              precision    recall  f1-score   support\n",
      "\n",
      "Not Survived       0.73      0.96      0.83       105\n",
      "    Survived       0.90      0.49      0.63        74\n",
      "\n",
      "    accuracy                           0.77       179\n",
      "   macro avg       0.81      0.72      0.73       179\n",
      "weighted avg       0.80      0.77      0.75       179\n",
      "\n"
     ]
    }
   ],
   "source": [
    "print(metrics.classification_report(valid_Y, preds, target_names=['Not Survived', 'Survived']))"
   ]
  }
 ],
 "metadata": {
  "kaggle": {
   "accelerator": "none",
   "dataSources": [
    {
     "databundleVersionId": 26502,
     "sourceId": 3136,
     "sourceType": "competition"
    },
    {
     "sourceId": 152368484,
     "sourceType": "kernelVersion"
    },
    {
     "sourceId": 152557177,
     "sourceType": "kernelVersion"
    }
   ],
   "dockerImageVersionId": 30587,
   "isGpuEnabled": false,
   "isInternetEnabled": true,
   "language": "python",
   "sourceType": "notebook"
  },
  "kernelspec": {
   "display_name": "Python 3",
   "language": "python",
   "name": "python3"
  },
  "language_info": {
   "codemirror_mode": {
    "name": "ipython",
    "version": 3
   },
   "file_extension": ".py",
   "mimetype": "text/x-python",
   "name": "python",
   "nbconvert_exporter": "python",
   "pygments_lexer": "ipython3",
   "version": "3.10.12"
  },
  "papermill": {
   "default_parameters": {},
   "duration": 14.499022,
   "end_time": "2023-11-27T13:50:08.901229",
   "environment_variables": {},
   "exception": null,
   "input_path": "__notebook__.ipynb",
   "output_path": "__notebook__.ipynb",
   "parameters": {},
   "start_time": "2023-11-27T13:49:54.402207",
   "version": "2.4.0"
  }
 },
 "nbformat": 4,
 "nbformat_minor": 5
}
